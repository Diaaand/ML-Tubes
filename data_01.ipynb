{
 "cells": [
  {
   "cell_type": "markdown",
   "metadata": {},
   "source": [
    "Nama : Nadia Ramadhani, Faiqotul Mahmudah"
   ]
  },
  {
   "cell_type": "code",
   "execution_count": 1,
   "metadata": {},
   "outputs": [
    {
     "ename": "ModuleNotFoundError",
     "evalue": "No module named 'statsmodels'",
     "output_type": "error",
     "traceback": [
      "\u001b[1;31m---------------------------------------------------------------------------\u001b[0m",
      "\u001b[1;31mModuleNotFoundError\u001b[0m                       Traceback (most recent call last)",
      "\u001b[1;32m<ipython-input-1-75da395fdfb8>\u001b[0m in \u001b[0;36m<module>\u001b[1;34m\u001b[0m\n\u001b[0;32m      5\u001b[0m \u001b[1;32mimport\u001b[0m \u001b[0mseaborn\u001b[0m \u001b[1;32mas\u001b[0m \u001b[0msns\u001b[0m\u001b[1;33m\u001b[0m\u001b[1;33m\u001b[0m\u001b[0m\n\u001b[0;32m      6\u001b[0m \u001b[1;32mimport\u001b[0m \u001b[0mmatplotlib\u001b[0m\u001b[1;33m.\u001b[0m\u001b[0mpyplot\u001b[0m \u001b[1;32mas\u001b[0m \u001b[0mplt\u001b[0m\u001b[1;33m\u001b[0m\u001b[1;33m\u001b[0m\u001b[0m\n\u001b[1;32m----> 7\u001b[1;33m \u001b[1;32mimport\u001b[0m \u001b[0mstatsmodels\u001b[0m\u001b[1;33m.\u001b[0m\u001b[0mapi\u001b[0m \u001b[1;32mas\u001b[0m \u001b[0msm\u001b[0m\u001b[1;33m\u001b[0m\u001b[1;33m\u001b[0m\u001b[0m\n\u001b[0m\u001b[0;32m      8\u001b[0m \u001b[1;32mimport\u001b[0m \u001b[0mstatsmodels\u001b[0m\u001b[1;33m.\u001b[0m\u001b[0mformula\u001b[0m\u001b[1;33m.\u001b[0m\u001b[0mapi\u001b[0m \u001b[1;32mas\u001b[0m \u001b[0msmf\u001b[0m\u001b[1;33m\u001b[0m\u001b[1;33m\u001b[0m\u001b[0m\n\u001b[0;32m      9\u001b[0m \u001b[1;32mfrom\u001b[0m \u001b[0mpatsy\u001b[0m \u001b[1;32mimport\u001b[0m \u001b[0mdmatrices\u001b[0m\u001b[1;33m\u001b[0m\u001b[1;33m\u001b[0m\u001b[0m\n",
      "\u001b[1;31mModuleNotFoundError\u001b[0m: No module named 'statsmodels'"
     ]
    }
   ],
   "source": [
    "#Import Library\n",
    "\n",
    "import pandas as pd\n",
    "import numpy as np\n",
    "import seaborn as sns\n",
    "import matplotlib.pyplot as plt\n",
    "import statsmodels.api as sm\n",
    "import statsmodels.formula.api as smf\n",
    "from patsy import dmatrices\n",
    "import sklearn\n",
    "import sklearn.metrics\n",
    "from sklearn import ensemble\n",
    "from sklearn import linear_model"
   ]
  },
  {
   "cell_type": "code",
   "execution_count": null,
   "metadata": {},
   "outputs": [],
   "source": [
    "data = pd.read_csv(\"A2022_dataset_buat bedah data.csv\", chunksize = 1000,  on_bad_lines = 'skip', delimiter = ';')\n",
    "chunk_number = 1\n",
    "chunks = []\n",
    "\n",
    "for i, chunk in enumerate(data):\n",
    "    data = pd.DataFrame(chunk)\n",
    "    chunks.append(data)\n",
    "    if i == chunk_number:\n",
    "        break"
   ]
  },
  {
   "cell_type": "code",
   "execution_count": null,
   "metadata": {},
   "outputs": [
    {
     "data": {
      "text/html": [
       "<div>\n",
       "<style scoped>\n",
       "    .dataframe tbody tr th:only-of-type {\n",
       "        vertical-align: middle;\n",
       "    }\n",
       "\n",
       "    .dataframe tbody tr th {\n",
       "        vertical-align: top;\n",
       "    }\n",
       "\n",
       "    .dataframe thead th {\n",
       "        text-align: right;\n",
       "    }\n",
       "</style>\n",
       "<table border=\"1\" class=\"dataframe\">\n",
       "  <thead>\n",
       "    <tr style=\"text-align: right;\">\n",
       "      <th></th>\n",
       "      <th>kodepemda</th>\n",
       "      <th>namapemda</th>\n",
       "      <th>sumber</th>\n",
       "      <th>tahun</th>\n",
       "      <th>bulan</th>\n",
       "      <th>kodedata</th>\n",
       "      <th>jeniscoa</th>\n",
       "      <th>nomorperda</th>\n",
       "      <th>tanggalperda</th>\n",
       "      <th>namaaplikasi</th>\n",
       "      <th>...</th>\n",
       "      <th>namaakunsubsubrinci</th>\n",
       "      <th>kodeakunsubsubsubrinci</th>\n",
       "      <th>namaakunsubsubsubrinci</th>\n",
       "      <th>volume</th>\n",
       "      <th>satuan</th>\n",
       "      <th>hargasatuan</th>\n",
       "      <th>kodesumberdana</th>\n",
       "      <th>namasumberdana</th>\n",
       "      <th>nilaianggaran</th>\n",
       "      <th>catatan</th>\n",
       "    </tr>\n",
       "  </thead>\n",
       "  <tbody>\n",
       "    <tr>\n",
       "      <th>0</th>\n",
       "      <td>1.0</td>\n",
       "      <td>Provinsi Aceh</td>\n",
       "      <td>Sinergi5</td>\n",
       "      <td>2022</td>\n",
       "      <td>0</td>\n",
       "      <td>1</td>\n",
       "      <td>3</td>\n",
       "      <td>-</td>\n",
       "      <td>1900-01-01</td>\n",
       "      <td>NaN</td>\n",
       "      <td>...</td>\n",
       "      <td>NaN</td>\n",
       "      <td>NaN</td>\n",
       "      <td>NaN</td>\n",
       "      <td>0</td>\n",
       "      <td>NaN</td>\n",
       "      <td>0</td>\n",
       "      <td>NaN</td>\n",
       "      <td>NaN</td>\n",
       "      <td>31600000</td>\n",
       "      <td>NaN</td>\n",
       "    </tr>\n",
       "    <tr>\n",
       "      <th>1</th>\n",
       "      <td>1.0</td>\n",
       "      <td>Provinsi Aceh</td>\n",
       "      <td>Sinergi5</td>\n",
       "      <td>2022</td>\n",
       "      <td>0</td>\n",
       "      <td>1</td>\n",
       "      <td>3</td>\n",
       "      <td>-</td>\n",
       "      <td>1900-01-01</td>\n",
       "      <td>NaN</td>\n",
       "      <td>...</td>\n",
       "      <td>NaN</td>\n",
       "      <td>NaN</td>\n",
       "      <td>NaN</td>\n",
       "      <td>0</td>\n",
       "      <td>NaN</td>\n",
       "      <td>0</td>\n",
       "      <td>NaN</td>\n",
       "      <td>NaN</td>\n",
       "      <td>50000000</td>\n",
       "      <td>NaN</td>\n",
       "    </tr>\n",
       "    <tr>\n",
       "      <th>2</th>\n",
       "      <td>1.0</td>\n",
       "      <td>Provinsi Aceh</td>\n",
       "      <td>Sinergi5</td>\n",
       "      <td>2022</td>\n",
       "      <td>0</td>\n",
       "      <td>1</td>\n",
       "      <td>3</td>\n",
       "      <td>-</td>\n",
       "      <td>1900-01-01</td>\n",
       "      <td>NaN</td>\n",
       "      <td>...</td>\n",
       "      <td>NaN</td>\n",
       "      <td>NaN</td>\n",
       "      <td>NaN</td>\n",
       "      <td>0</td>\n",
       "      <td>NaN</td>\n",
       "      <td>0</td>\n",
       "      <td>NaN</td>\n",
       "      <td>NaN</td>\n",
       "      <td>57250000</td>\n",
       "      <td>NaN</td>\n",
       "    </tr>\n",
       "    <tr>\n",
       "      <th>3</th>\n",
       "      <td>1.0</td>\n",
       "      <td>Provinsi Aceh</td>\n",
       "      <td>Sinergi5</td>\n",
       "      <td>2022</td>\n",
       "      <td>0</td>\n",
       "      <td>1</td>\n",
       "      <td>3</td>\n",
       "      <td>-</td>\n",
       "      <td>1900-01-01</td>\n",
       "      <td>NaN</td>\n",
       "      <td>...</td>\n",
       "      <td>NaN</td>\n",
       "      <td>NaN</td>\n",
       "      <td>NaN</td>\n",
       "      <td>0</td>\n",
       "      <td>NaN</td>\n",
       "      <td>0</td>\n",
       "      <td>NaN</td>\n",
       "      <td>NaN</td>\n",
       "      <td>50000000</td>\n",
       "      <td>NaN</td>\n",
       "    </tr>\n",
       "    <tr>\n",
       "      <th>4</th>\n",
       "      <td>1.0</td>\n",
       "      <td>Provinsi Aceh</td>\n",
       "      <td>Sinergi5</td>\n",
       "      <td>2022</td>\n",
       "      <td>0</td>\n",
       "      <td>1</td>\n",
       "      <td>3</td>\n",
       "      <td>-</td>\n",
       "      <td>1900-01-01</td>\n",
       "      <td>NaN</td>\n",
       "      <td>...</td>\n",
       "      <td>NaN</td>\n",
       "      <td>NaN</td>\n",
       "      <td>NaN</td>\n",
       "      <td>0</td>\n",
       "      <td>NaN</td>\n",
       "      <td>0</td>\n",
       "      <td>NaN</td>\n",
       "      <td>NaN</td>\n",
       "      <td>600669000</td>\n",
       "      <td>NaN</td>\n",
       "    </tr>\n",
       "  </tbody>\n",
       "</table>\n",
       "<p>5 rows × 60 columns</p>\n",
       "</div>"
      ],
      "text/plain": [
       "   kodepemda      namapemda    sumber  tahun  bulan  kodedata  jeniscoa  \\\n",
       "0        1.0  Provinsi Aceh  Sinergi5   2022      0         1         3   \n",
       "1        1.0  Provinsi Aceh  Sinergi5   2022      0         1         3   \n",
       "2        1.0  Provinsi Aceh  Sinergi5   2022      0         1         3   \n",
       "3        1.0  Provinsi Aceh  Sinergi5   2022      0         1         3   \n",
       "4        1.0  Provinsi Aceh  Sinergi5   2022      0         1         3   \n",
       "\n",
       "  nomorperda tanggalperda  namaaplikasi  ...  namaakunsubsubrinci  \\\n",
       "0          -   1900-01-01           NaN  ...                  NaN   \n",
       "1          -   1900-01-01           NaN  ...                  NaN   \n",
       "2          -   1900-01-01           NaN  ...                  NaN   \n",
       "3          -   1900-01-01           NaN  ...                  NaN   \n",
       "4          -   1900-01-01           NaN  ...                  NaN   \n",
       "\n",
       "   kodeakunsubsubsubrinci namaakunsubsubsubrinci  volume  satuan hargasatuan  \\\n",
       "0                     NaN                    NaN       0     NaN           0   \n",
       "1                     NaN                    NaN       0     NaN           0   \n",
       "2                     NaN                    NaN       0     NaN           0   \n",
       "3                     NaN                    NaN       0     NaN           0   \n",
       "4                     NaN                    NaN       0     NaN           0   \n",
       "\n",
       "  kodesumberdana namasumberdana nilaianggaran  catatan  \n",
       "0            NaN            NaN      31600000      NaN  \n",
       "1            NaN            NaN      50000000      NaN  \n",
       "2            NaN            NaN      57250000      NaN  \n",
       "3            NaN            NaN      50000000      NaN  \n",
       "4            NaN            NaN     600669000      NaN  \n",
       "\n",
       "[5 rows x 60 columns]"
      ]
     },
     "execution_count": 5,
     "metadata": {},
     "output_type": "execute_result"
    }
   ],
   "source": [
    "data = pd.concat(chunks)\n",
    "data.head()"
   ]
  },
  {
   "cell_type": "code",
   "execution_count": null,
   "metadata": {},
   "outputs": [
    {
     "data": {
      "text/html": [
       "<div>\n",
       "<style scoped>\n",
       "    .dataframe tbody tr th:only-of-type {\n",
       "        vertical-align: middle;\n",
       "    }\n",
       "\n",
       "    .dataframe tbody tr th {\n",
       "        vertical-align: top;\n",
       "    }\n",
       "\n",
       "    .dataframe thead th {\n",
       "        text-align: right;\n",
       "    }\n",
       "</style>\n",
       "<table border=\"1\" class=\"dataframe\">\n",
       "  <thead>\n",
       "    <tr style=\"text-align: right;\">\n",
       "      <th></th>\n",
       "      <th>kodepemda</th>\n",
       "      <th>namapemda</th>\n",
       "      <th>sumber</th>\n",
       "      <th>tahun</th>\n",
       "      <th>bulan</th>\n",
       "      <th>kodedata</th>\n",
       "      <th>jeniscoa</th>\n",
       "      <th>nomorperda</th>\n",
       "      <th>tanggalperda</th>\n",
       "      <th>namaaplikasi</th>\n",
       "      <th>...</th>\n",
       "      <th>namaakunsubsubrinci</th>\n",
       "      <th>kodeakunsubsubsubrinci</th>\n",
       "      <th>namaakunsubsubsubrinci</th>\n",
       "      <th>volume</th>\n",
       "      <th>satuan</th>\n",
       "      <th>hargasatuan</th>\n",
       "      <th>kodesumberdana</th>\n",
       "      <th>namasumberdana</th>\n",
       "      <th>nilaianggaran</th>\n",
       "      <th>catatan</th>\n",
       "    </tr>\n",
       "  </thead>\n",
       "  <tbody>\n",
       "    <tr>\n",
       "      <th>1995</th>\n",
       "      <td>1.0</td>\n",
       "      <td>Provinsi Aceh</td>\n",
       "      <td>Sinergi5</td>\n",
       "      <td>2022</td>\n",
       "      <td>0</td>\n",
       "      <td>1</td>\n",
       "      <td>3</td>\n",
       "      <td>-</td>\n",
       "      <td>1900-01-01</td>\n",
       "      <td>NaN</td>\n",
       "      <td>...</td>\n",
       "      <td>NaN</td>\n",
       "      <td>NaN</td>\n",
       "      <td>NaN</td>\n",
       "      <td>0</td>\n",
       "      <td>NaN</td>\n",
       "      <td>0</td>\n",
       "      <td>NaN</td>\n",
       "      <td>NaN</td>\n",
       "      <td>1087300000</td>\n",
       "      <td>NaN</td>\n",
       "    </tr>\n",
       "    <tr>\n",
       "      <th>1996</th>\n",
       "      <td>1.0</td>\n",
       "      <td>Provinsi Aceh</td>\n",
       "      <td>Sinergi5</td>\n",
       "      <td>2022</td>\n",
       "      <td>0</td>\n",
       "      <td>1</td>\n",
       "      <td>3</td>\n",
       "      <td>-</td>\n",
       "      <td>1900-01-01</td>\n",
       "      <td>NaN</td>\n",
       "      <td>...</td>\n",
       "      <td>NaN</td>\n",
       "      <td>NaN</td>\n",
       "      <td>NaN</td>\n",
       "      <td>0</td>\n",
       "      <td>NaN</td>\n",
       "      <td>0</td>\n",
       "      <td>NaN</td>\n",
       "      <td>NaN</td>\n",
       "      <td>53160000</td>\n",
       "      <td>NaN</td>\n",
       "    </tr>\n",
       "    <tr>\n",
       "      <th>1997</th>\n",
       "      <td>1.0</td>\n",
       "      <td>Provinsi Aceh</td>\n",
       "      <td>Sinergi5</td>\n",
       "      <td>2022</td>\n",
       "      <td>0</td>\n",
       "      <td>1</td>\n",
       "      <td>3</td>\n",
       "      <td>-</td>\n",
       "      <td>1900-01-01</td>\n",
       "      <td>NaN</td>\n",
       "      <td>...</td>\n",
       "      <td>NaN</td>\n",
       "      <td>NaN</td>\n",
       "      <td>NaN</td>\n",
       "      <td>0</td>\n",
       "      <td>NaN</td>\n",
       "      <td>0</td>\n",
       "      <td>NaN</td>\n",
       "      <td>NaN</td>\n",
       "      <td>642125000</td>\n",
       "      <td>NaN</td>\n",
       "    </tr>\n",
       "    <tr>\n",
       "      <th>1998</th>\n",
       "      <td>1.0</td>\n",
       "      <td>Provinsi Aceh</td>\n",
       "      <td>Sinergi5</td>\n",
       "      <td>2022</td>\n",
       "      <td>0</td>\n",
       "      <td>1</td>\n",
       "      <td>3</td>\n",
       "      <td>-</td>\n",
       "      <td>1900-01-01</td>\n",
       "      <td>NaN</td>\n",
       "      <td>...</td>\n",
       "      <td>NaN</td>\n",
       "      <td>NaN</td>\n",
       "      <td>NaN</td>\n",
       "      <td>0</td>\n",
       "      <td>NaN</td>\n",
       "      <td>0</td>\n",
       "      <td>NaN</td>\n",
       "      <td>NaN</td>\n",
       "      <td>18891200</td>\n",
       "      <td>NaN</td>\n",
       "    </tr>\n",
       "    <tr>\n",
       "      <th>1999</th>\n",
       "      <td>1.0</td>\n",
       "      <td>Provinsi Aceh</td>\n",
       "      <td>Sinergi5</td>\n",
       "      <td>2022</td>\n",
       "      <td>0</td>\n",
       "      <td>1</td>\n",
       "      <td>3</td>\n",
       "      <td>-</td>\n",
       "      <td>1900-01-01</td>\n",
       "      <td>NaN</td>\n",
       "      <td>...</td>\n",
       "      <td>NaN</td>\n",
       "      <td>NaN</td>\n",
       "      <td>NaN</td>\n",
       "      <td>0</td>\n",
       "      <td>NaN</td>\n",
       "      <td>0</td>\n",
       "      <td>NaN</td>\n",
       "      <td>NaN</td>\n",
       "      <td>2694027217</td>\n",
       "      <td>NaN</td>\n",
       "    </tr>\n",
       "  </tbody>\n",
       "</table>\n",
       "<p>5 rows × 60 columns</p>\n",
       "</div>"
      ],
      "text/plain": [
       "      kodepemda      namapemda    sumber  tahun  bulan  kodedata  jeniscoa  \\\n",
       "1995        1.0  Provinsi Aceh  Sinergi5   2022      0         1         3   \n",
       "1996        1.0  Provinsi Aceh  Sinergi5   2022      0         1         3   \n",
       "1997        1.0  Provinsi Aceh  Sinergi5   2022      0         1         3   \n",
       "1998        1.0  Provinsi Aceh  Sinergi5   2022      0         1         3   \n",
       "1999        1.0  Provinsi Aceh  Sinergi5   2022      0         1         3   \n",
       "\n",
       "     nomorperda tanggalperda  namaaplikasi  ...  namaakunsubsubrinci  \\\n",
       "1995          -   1900-01-01           NaN  ...                  NaN   \n",
       "1996          -   1900-01-01           NaN  ...                  NaN   \n",
       "1997          -   1900-01-01           NaN  ...                  NaN   \n",
       "1998          -   1900-01-01           NaN  ...                  NaN   \n",
       "1999          -   1900-01-01           NaN  ...                  NaN   \n",
       "\n",
       "      kodeakunsubsubsubrinci namaakunsubsubsubrinci  volume  satuan  \\\n",
       "1995                     NaN                    NaN       0     NaN   \n",
       "1996                     NaN                    NaN       0     NaN   \n",
       "1997                     NaN                    NaN       0     NaN   \n",
       "1998                     NaN                    NaN       0     NaN   \n",
       "1999                     NaN                    NaN       0     NaN   \n",
       "\n",
       "     hargasatuan kodesumberdana namasumberdana nilaianggaran  catatan  \n",
       "1995           0            NaN            NaN    1087300000      NaN  \n",
       "1996           0            NaN            NaN      53160000      NaN  \n",
       "1997           0            NaN            NaN     642125000      NaN  \n",
       "1998           0            NaN            NaN      18891200      NaN  \n",
       "1999           0            NaN            NaN    2694027217      NaN  \n",
       "\n",
       "[5 rows x 60 columns]"
      ]
     },
     "execution_count": 6,
     "metadata": {},
     "output_type": "execute_result"
    }
   ],
   "source": [
    "data.tail()"
   ]
  },
  {
   "cell_type": "code",
   "execution_count": null,
   "metadata": {},
   "outputs": [
    {
     "name": "stdout",
     "output_type": "stream",
     "text": [
      "Shape : (2000, 60)\n",
      "Column headers/names: ['kodepemda', 'namapemda', 'sumber', 'tahun', 'bulan', 'kodedata', 'jeniscoa', 'nomorperda', 'tanggalperda', 'namaaplikasi', 'pengembangaplikasi', 'kodefungsi', 'namafungsi', 'kodesubfungsi', 'namasubfungsi', 'kodeurusanprogram', 'namaurusanprogram', 'kodeurusanpelaksana', 'namaurusanpelaksana', 'kodeskpd', 'namaskpd', 'kodeunitskpd', 'namaunitskpd', 'kodeprogram', 'namaprogram', 'namaoutcome', 'targetoutcome', 'satuanoutcome', 'kodekegiatan', 'namakegiatan', 'kodesubkegiatan', 'namasubkegiatan', 'namaoutput', 'targetoutput', 'satuanoutput', 'kodelokasi', 'namalokasi', 'kodeakunutama', 'namaakunutama', 'kodeakunkelompok', 'namaakunkelompok', 'kodeakunjenis', 'namaakunjenis', 'kodeakunobjek', 'namaakunobjek', 'kodeakunrinci', 'namaakunrinci', 'kodeakunsubrinci', 'namaakunsubrinci', 'kodeakunsubsubrinci', 'namaakunsubsubrinci', 'kodeakunsubsubsubrinci', 'namaakunsubsubsubrinci', 'volume', 'satuan', 'hargasatuan', 'kodesumberdana', 'namasumberdana', 'nilaianggaran', 'catatan']\n"
     ]
    }
   ],
   "source": [
    "#Menampilkan nama-nama kolom.\n",
    "\n",
    "print(\"Shape : {s}\".format(s = data.shape))\n",
    "print(\"Column headers/names: {s}\".format(s = list(data)))"
   ]
  },
  {
   "cell_type": "markdown",
   "metadata": {},
   "source": [
    "Data Pre-Processing"
   ]
  },
  {
   "cell_type": "code",
   "execution_count": null,
   "metadata": {},
   "outputs": [
    {
     "name": "stdout",
     "output_type": "stream",
     "text": [
      "<class 'pandas.core.frame.DataFrame'>\n",
      "RangeIndex: 2000 entries, 0 to 1999\n",
      "Data columns (total 60 columns):\n",
      " #   Column                  Non-Null Count  Dtype  \n",
      "---  ------                  --------------  -----  \n",
      " 0   kodepemda               2000 non-null   float64\n",
      " 1   namapemda               2000 non-null   object \n",
      " 2   sumber                  2000 non-null   object \n",
      " 3   tahun                   2000 non-null   int64  \n",
      " 4   bulan                   2000 non-null   int64  \n",
      " 5   kodedata                2000 non-null   int64  \n",
      " 6   jeniscoa                2000 non-null   int64  \n",
      " 7   nomorperda              2000 non-null   object \n",
      " 8   tanggalperda            2000 non-null   object \n",
      " 9   namaaplikasi            0 non-null      float64\n",
      " 10  pengembangaplikasi      0 non-null      float64\n",
      " 11  kodefungsi              2000 non-null   int64  \n",
      " 12  namafungsi              2000 non-null   object \n",
      " 13  kodesubfungsi           2000 non-null   int64  \n",
      " 14  namasubfungsi           0 non-null      float64\n",
      " 15  kodeurusanprogram       2000 non-null   object \n",
      " 16  namaurusanprogram       2000 non-null   object \n",
      " 17  kodeurusanpelaksana     2000 non-null   object \n",
      " 18  namaurusanpelaksana     2000 non-null   object \n",
      " 19  kodeskpd                2000 non-null   int64  \n",
      " 20  namaskpd                2000 non-null   object \n",
      " 21  kodeunitskpd            2000 non-null   int64  \n",
      " 22  namaunitskpd            2000 non-null   object \n",
      " 23  kodeprogram             2000 non-null   int64  \n",
      " 24  namaprogram             2000 non-null   object \n",
      " 25  namaoutcome             0 non-null      float64\n",
      " 26  targetoutcome           2000 non-null   int64  \n",
      " 27  satuanoutcome           0 non-null      float64\n",
      " 28  kodekegiatan            2000 non-null   int64  \n",
      " 29  namakegiatan            2000 non-null   object \n",
      " 30  kodesubkegiatan         2000 non-null   int64  \n",
      " 31  namasubkegiatan         2000 non-null   object \n",
      " 32  namaoutput              0 non-null      float64\n",
      " 33  targetoutput            2000 non-null   int64  \n",
      " 34  satuanoutput            0 non-null      float64\n",
      " 35  kodelokasi              0 non-null      float64\n",
      " 36  namalokasi              0 non-null      float64\n",
      " 37  kodeakunutama           2000 non-null   int64  \n",
      " 38  namaakunutama           2000 non-null   object \n",
      " 39  kodeakunkelompok        2000 non-null   int64  \n",
      " 40  namaakunkelompok        2000 non-null   object \n",
      " 41  kodeakunjenis           2000 non-null   int64  \n",
      " 42  namaakunjenis           2000 non-null   object \n",
      " 43  kodeakunobjek           2000 non-null   int64  \n",
      " 44  namaakunobjek           2000 non-null   object \n",
      " 45  kodeakunrinci           2000 non-null   int64  \n",
      " 46  namaakunrinci           2000 non-null   object \n",
      " 47  kodeakunsubrinci        2000 non-null   int64  \n",
      " 48  namaakunsubrinci        2000 non-null   object \n",
      " 49  kodeakunsubsubrinci     0 non-null      float64\n",
      " 50  namaakunsubsubrinci     0 non-null      float64\n",
      " 51  kodeakunsubsubsubrinci  0 non-null      float64\n",
      " 52  namaakunsubsubsubrinci  0 non-null      float64\n",
      " 53  volume                  2000 non-null   int64  \n",
      " 54  satuan                  0 non-null      float64\n",
      " 55  hargasatuan             2000 non-null   int64  \n",
      " 56  kodesumberdana          0 non-null      float64\n",
      " 57  namasumberdana          0 non-null      float64\n",
      " 58  nilaianggaran           2000 non-null   int64  \n",
      " 59  catatan                 0 non-null      float64\n",
      "dtypes: float64(18), int64(22), object(20)\n",
      "memory usage: 937.6+ KB\n"
     ]
    }
   ],
   "source": [
    "data.info()"
   ]
  },
  {
   "cell_type": "code",
   "execution_count": null,
   "metadata": {},
   "outputs": [
    {
     "data": {
      "text/html": [
       "<div>\n",
       "<style scoped>\n",
       "    .dataframe tbody tr th:only-of-type {\n",
       "        vertical-align: middle;\n",
       "    }\n",
       "\n",
       "    .dataframe tbody tr th {\n",
       "        vertical-align: top;\n",
       "    }\n",
       "\n",
       "    .dataframe thead th {\n",
       "        text-align: right;\n",
       "    }\n",
       "</style>\n",
       "<table border=\"1\" class=\"dataframe\">\n",
       "  <thead>\n",
       "    <tr style=\"text-align: right;\">\n",
       "      <th></th>\n",
       "      <th>kodepemda</th>\n",
       "      <th>tahun</th>\n",
       "      <th>bulan</th>\n",
       "      <th>kodedata</th>\n",
       "      <th>jeniscoa</th>\n",
       "      <th>namaaplikasi</th>\n",
       "      <th>pengembangaplikasi</th>\n",
       "      <th>kodefungsi</th>\n",
       "      <th>kodesubfungsi</th>\n",
       "      <th>namasubfungsi</th>\n",
       "      <th>...</th>\n",
       "      <th>namaakunsubsubrinci</th>\n",
       "      <th>kodeakunsubsubsubrinci</th>\n",
       "      <th>namaakunsubsubsubrinci</th>\n",
       "      <th>volume</th>\n",
       "      <th>satuan</th>\n",
       "      <th>hargasatuan</th>\n",
       "      <th>kodesumberdana</th>\n",
       "      <th>namasumberdana</th>\n",
       "      <th>nilaianggaran</th>\n",
       "      <th>catatan</th>\n",
       "    </tr>\n",
       "  </thead>\n",
       "  <tbody>\n",
       "    <tr>\n",
       "      <th>count</th>\n",
       "      <td>2000.0</td>\n",
       "      <td>2000.0</td>\n",
       "      <td>2000.0</td>\n",
       "      <td>2000.0</td>\n",
       "      <td>2000.0</td>\n",
       "      <td>0.0</td>\n",
       "      <td>0.0</td>\n",
       "      <td>2000.000000</td>\n",
       "      <td>2000.0</td>\n",
       "      <td>0.0</td>\n",
       "      <td>...</td>\n",
       "      <td>0.0</td>\n",
       "      <td>0.0</td>\n",
       "      <td>0.0</td>\n",
       "      <td>2000.0</td>\n",
       "      <td>0.0</td>\n",
       "      <td>2000.0</td>\n",
       "      <td>0.0</td>\n",
       "      <td>0.0</td>\n",
       "      <td>2.000000e+03</td>\n",
       "      <td>0.0</td>\n",
       "    </tr>\n",
       "    <tr>\n",
       "      <th>mean</th>\n",
       "      <td>1.0</td>\n",
       "      <td>2022.0</td>\n",
       "      <td>0.0</td>\n",
       "      <td>1.0</td>\n",
       "      <td>3.0</td>\n",
       "      <td>NaN</td>\n",
       "      <td>NaN</td>\n",
       "      <td>8.775500</td>\n",
       "      <td>0.0</td>\n",
       "      <td>NaN</td>\n",
       "      <td>...</td>\n",
       "      <td>NaN</td>\n",
       "      <td>NaN</td>\n",
       "      <td>NaN</td>\n",
       "      <td>0.0</td>\n",
       "      <td>NaN</td>\n",
       "      <td>0.0</td>\n",
       "      <td>NaN</td>\n",
       "      <td>NaN</td>\n",
       "      <td>3.251770e+09</td>\n",
       "      <td>NaN</td>\n",
       "    </tr>\n",
       "    <tr>\n",
       "      <th>std</th>\n",
       "      <td>0.0</td>\n",
       "      <td>0.0</td>\n",
       "      <td>0.0</td>\n",
       "      <td>0.0</td>\n",
       "      <td>0.0</td>\n",
       "      <td>NaN</td>\n",
       "      <td>NaN</td>\n",
       "      <td>1.960873</td>\n",
       "      <td>0.0</td>\n",
       "      <td>NaN</td>\n",
       "      <td>...</td>\n",
       "      <td>NaN</td>\n",
       "      <td>NaN</td>\n",
       "      <td>NaN</td>\n",
       "      <td>0.0</td>\n",
       "      <td>NaN</td>\n",
       "      <td>0.0</td>\n",
       "      <td>NaN</td>\n",
       "      <td>NaN</td>\n",
       "      <td>2.406511e+10</td>\n",
       "      <td>NaN</td>\n",
       "    </tr>\n",
       "    <tr>\n",
       "      <th>min</th>\n",
       "      <td>1.0</td>\n",
       "      <td>2022.0</td>\n",
       "      <td>0.0</td>\n",
       "      <td>1.0</td>\n",
       "      <td>3.0</td>\n",
       "      <td>NaN</td>\n",
       "      <td>NaN</td>\n",
       "      <td>1.000000</td>\n",
       "      <td>0.0</td>\n",
       "      <td>NaN</td>\n",
       "      <td>...</td>\n",
       "      <td>NaN</td>\n",
       "      <td>NaN</td>\n",
       "      <td>NaN</td>\n",
       "      <td>0.0</td>\n",
       "      <td>NaN</td>\n",
       "      <td>0.0</td>\n",
       "      <td>NaN</td>\n",
       "      <td>NaN</td>\n",
       "      <td>1.347000e+03</td>\n",
       "      <td>NaN</td>\n",
       "    </tr>\n",
       "    <tr>\n",
       "      <th>25%</th>\n",
       "      <td>1.0</td>\n",
       "      <td>2022.0</td>\n",
       "      <td>0.0</td>\n",
       "      <td>1.0</td>\n",
       "      <td>3.0</td>\n",
       "      <td>NaN</td>\n",
       "      <td>NaN</td>\n",
       "      <td>7.000000</td>\n",
       "      <td>0.0</td>\n",
       "      <td>NaN</td>\n",
       "      <td>...</td>\n",
       "      <td>NaN</td>\n",
       "      <td>NaN</td>\n",
       "      <td>NaN</td>\n",
       "      <td>0.0</td>\n",
       "      <td>NaN</td>\n",
       "      <td>0.0</td>\n",
       "      <td>NaN</td>\n",
       "      <td>NaN</td>\n",
       "      <td>1.186000e+07</td>\n",
       "      <td>NaN</td>\n",
       "    </tr>\n",
       "    <tr>\n",
       "      <th>50%</th>\n",
       "      <td>1.0</td>\n",
       "      <td>2022.0</td>\n",
       "      <td>0.0</td>\n",
       "      <td>1.0</td>\n",
       "      <td>3.0</td>\n",
       "      <td>NaN</td>\n",
       "      <td>NaN</td>\n",
       "      <td>10.000000</td>\n",
       "      <td>0.0</td>\n",
       "      <td>NaN</td>\n",
       "      <td>...</td>\n",
       "      <td>NaN</td>\n",
       "      <td>NaN</td>\n",
       "      <td>NaN</td>\n",
       "      <td>0.0</td>\n",
       "      <td>NaN</td>\n",
       "      <td>0.0</td>\n",
       "      <td>NaN</td>\n",
       "      <td>NaN</td>\n",
       "      <td>4.999436e+07</td>\n",
       "      <td>NaN</td>\n",
       "    </tr>\n",
       "    <tr>\n",
       "      <th>75%</th>\n",
       "      <td>1.0</td>\n",
       "      <td>2022.0</td>\n",
       "      <td>0.0</td>\n",
       "      <td>1.0</td>\n",
       "      <td>3.0</td>\n",
       "      <td>NaN</td>\n",
       "      <td>NaN</td>\n",
       "      <td>10.000000</td>\n",
       "      <td>0.0</td>\n",
       "      <td>NaN</td>\n",
       "      <td>...</td>\n",
       "      <td>NaN</td>\n",
       "      <td>NaN</td>\n",
       "      <td>NaN</td>\n",
       "      <td>0.0</td>\n",
       "      <td>NaN</td>\n",
       "      <td>0.0</td>\n",
       "      <td>NaN</td>\n",
       "      <td>NaN</td>\n",
       "      <td>2.826705e+08</td>\n",
       "      <td>NaN</td>\n",
       "    </tr>\n",
       "    <tr>\n",
       "      <th>max</th>\n",
       "      <td>1.0</td>\n",
       "      <td>2022.0</td>\n",
       "      <td>0.0</td>\n",
       "      <td>1.0</td>\n",
       "      <td>3.0</td>\n",
       "      <td>NaN</td>\n",
       "      <td>NaN</td>\n",
       "      <td>11.000000</td>\n",
       "      <td>0.0</td>\n",
       "      <td>NaN</td>\n",
       "      <td>...</td>\n",
       "      <td>NaN</td>\n",
       "      <td>NaN</td>\n",
       "      <td>NaN</td>\n",
       "      <td>0.0</td>\n",
       "      <td>NaN</td>\n",
       "      <td>0.0</td>\n",
       "      <td>NaN</td>\n",
       "      <td>NaN</td>\n",
       "      <td>4.763700e+11</td>\n",
       "      <td>NaN</td>\n",
       "    </tr>\n",
       "  </tbody>\n",
       "</table>\n",
       "<p>8 rows × 40 columns</p>\n",
       "</div>"
      ],
      "text/plain": [
       "       kodepemda   tahun   bulan  kodedata  jeniscoa  namaaplikasi  \\\n",
       "count     2000.0  2000.0  2000.0    2000.0    2000.0           0.0   \n",
       "mean         1.0  2022.0     0.0       1.0       3.0           NaN   \n",
       "std          0.0     0.0     0.0       0.0       0.0           NaN   \n",
       "min          1.0  2022.0     0.0       1.0       3.0           NaN   \n",
       "25%          1.0  2022.0     0.0       1.0       3.0           NaN   \n",
       "50%          1.0  2022.0     0.0       1.0       3.0           NaN   \n",
       "75%          1.0  2022.0     0.0       1.0       3.0           NaN   \n",
       "max          1.0  2022.0     0.0       1.0       3.0           NaN   \n",
       "\n",
       "       pengembangaplikasi   kodefungsi  kodesubfungsi  namasubfungsi  ...  \\\n",
       "count                 0.0  2000.000000         2000.0            0.0  ...   \n",
       "mean                  NaN     8.775500            0.0            NaN  ...   \n",
       "std                   NaN     1.960873            0.0            NaN  ...   \n",
       "min                   NaN     1.000000            0.0            NaN  ...   \n",
       "25%                   NaN     7.000000            0.0            NaN  ...   \n",
       "50%                   NaN    10.000000            0.0            NaN  ...   \n",
       "75%                   NaN    10.000000            0.0            NaN  ...   \n",
       "max                   NaN    11.000000            0.0            NaN  ...   \n",
       "\n",
       "       namaakunsubsubrinci  kodeakunsubsubsubrinci  namaakunsubsubsubrinci  \\\n",
       "count                  0.0                     0.0                     0.0   \n",
       "mean                   NaN                     NaN                     NaN   \n",
       "std                    NaN                     NaN                     NaN   \n",
       "min                    NaN                     NaN                     NaN   \n",
       "25%                    NaN                     NaN                     NaN   \n",
       "50%                    NaN                     NaN                     NaN   \n",
       "75%                    NaN                     NaN                     NaN   \n",
       "max                    NaN                     NaN                     NaN   \n",
       "\n",
       "       volume  satuan  hargasatuan  kodesumberdana  namasumberdana  \\\n",
       "count  2000.0     0.0       2000.0             0.0             0.0   \n",
       "mean      0.0     NaN          0.0             NaN             NaN   \n",
       "std       0.0     NaN          0.0             NaN             NaN   \n",
       "min       0.0     NaN          0.0             NaN             NaN   \n",
       "25%       0.0     NaN          0.0             NaN             NaN   \n",
       "50%       0.0     NaN          0.0             NaN             NaN   \n",
       "75%       0.0     NaN          0.0             NaN             NaN   \n",
       "max       0.0     NaN          0.0             NaN             NaN   \n",
       "\n",
       "       nilaianggaran  catatan  \n",
       "count   2.000000e+03      0.0  \n",
       "mean    3.251770e+09      NaN  \n",
       "std     2.406511e+10      NaN  \n",
       "min     1.347000e+03      NaN  \n",
       "25%     1.186000e+07      NaN  \n",
       "50%     4.999436e+07      NaN  \n",
       "75%     2.826705e+08      NaN  \n",
       "max     4.763700e+11      NaN  \n",
       "\n",
       "[8 rows x 40 columns]"
      ]
     },
     "execution_count": 9,
     "metadata": {},
     "output_type": "execute_result"
    }
   ],
   "source": [
    "data.describe()"
   ]
  },
  {
   "cell_type": "code",
   "execution_count": null,
   "metadata": {},
   "outputs": [
    {
     "data": {
      "text/plain": [
       "kodepemda                    0\n",
       "namapemda                    0\n",
       "sumber                       0\n",
       "tahun                        0\n",
       "bulan                        0\n",
       "kodedata                     0\n",
       "jeniscoa                     0\n",
       "nomorperda                   0\n",
       "tanggalperda                 0\n",
       "namaaplikasi              2000\n",
       "pengembangaplikasi        2000\n",
       "kodefungsi                   0\n",
       "namafungsi                   0\n",
       "kodesubfungsi                0\n",
       "namasubfungsi             2000\n",
       "kodeurusanprogram            0\n",
       "namaurusanprogram            0\n",
       "kodeurusanpelaksana          0\n",
       "namaurusanpelaksana          0\n",
       "kodeskpd                     0\n",
       "namaskpd                     0\n",
       "kodeunitskpd                 0\n",
       "namaunitskpd                 0\n",
       "kodeprogram                  0\n",
       "namaprogram                  0\n",
       "namaoutcome               2000\n",
       "targetoutcome                0\n",
       "satuanoutcome             2000\n",
       "kodekegiatan                 0\n",
       "namakegiatan                 0\n",
       "kodesubkegiatan              0\n",
       "namasubkegiatan              0\n",
       "namaoutput                2000\n",
       "targetoutput                 0\n",
       "satuanoutput              2000\n",
       "kodelokasi                2000\n",
       "namalokasi                2000\n",
       "kodeakunutama                0\n",
       "namaakunutama                0\n",
       "kodeakunkelompok             0\n",
       "namaakunkelompok             0\n",
       "kodeakunjenis                0\n",
       "namaakunjenis                0\n",
       "kodeakunobjek                0\n",
       "namaakunobjek                0\n",
       "kodeakunrinci                0\n",
       "namaakunrinci                0\n",
       "kodeakunsubrinci             0\n",
       "namaakunsubrinci             0\n",
       "kodeakunsubsubrinci       2000\n",
       "namaakunsubsubrinci       2000\n",
       "kodeakunsubsubsubrinci    2000\n",
       "namaakunsubsubsubrinci    2000\n",
       "volume                       0\n",
       "satuan                    2000\n",
       "hargasatuan                  0\n",
       "kodesumberdana            2000\n",
       "namasumberdana            2000\n",
       "nilaianggaran                0\n",
       "catatan                   2000\n",
       "dtype: int64"
      ]
     },
     "execution_count": 10,
     "metadata": {},
     "output_type": "execute_result"
    }
   ],
   "source": [
    "#Mengecek missing value.\n",
    "\n",
    "data.isnull().sum()"
   ]
  },
  {
   "cell_type": "code",
   "execution_count": null,
   "metadata": {},
   "outputs": [
    {
     "data": {
      "text/html": [
       "<div>\n",
       "<style scoped>\n",
       "    .dataframe tbody tr th:only-of-type {\n",
       "        vertical-align: middle;\n",
       "    }\n",
       "\n",
       "    .dataframe tbody tr th {\n",
       "        vertical-align: top;\n",
       "    }\n",
       "\n",
       "    .dataframe thead th {\n",
       "        text-align: right;\n",
       "    }\n",
       "</style>\n",
       "<table border=\"1\" class=\"dataframe\">\n",
       "  <thead>\n",
       "    <tr style=\"text-align: right;\">\n",
       "      <th></th>\n",
       "      <th>kodepemda</th>\n",
       "      <th>namapemda</th>\n",
       "      <th>sumber</th>\n",
       "      <th>tahun</th>\n",
       "      <th>bulan</th>\n",
       "      <th>kodedata</th>\n",
       "      <th>jeniscoa</th>\n",
       "      <th>nomorperda</th>\n",
       "      <th>tanggalperda</th>\n",
       "      <th>kodefungsi</th>\n",
       "      <th>...</th>\n",
       "      <th>namaakunjenis</th>\n",
       "      <th>kodeakunobjek</th>\n",
       "      <th>namaakunobjek</th>\n",
       "      <th>kodeakunrinci</th>\n",
       "      <th>namaakunrinci</th>\n",
       "      <th>kodeakunsubrinci</th>\n",
       "      <th>namaakunsubrinci</th>\n",
       "      <th>volume</th>\n",
       "      <th>hargasatuan</th>\n",
       "      <th>nilaianggaran</th>\n",
       "    </tr>\n",
       "  </thead>\n",
       "  <tbody>\n",
       "    <tr>\n",
       "      <th>0</th>\n",
       "      <td>1.0</td>\n",
       "      <td>Provinsi Aceh</td>\n",
       "      <td>Sinergi5</td>\n",
       "      <td>2022</td>\n",
       "      <td>0</td>\n",
       "      <td>1</td>\n",
       "      <td>3</td>\n",
       "      <td>-</td>\n",
       "      <td>1900-01-01</td>\n",
       "      <td>10</td>\n",
       "      <td>...</td>\n",
       "      <td>Retribusi Daerah                              ...</td>\n",
       "      <td>2</td>\n",
       "      <td>Retribusi Jasa Usaha                          ...</td>\n",
       "      <td>1</td>\n",
       "      <td>Retribusi Pemakaian Kekayaan Daerah           ...</td>\n",
       "      <td>5</td>\n",
       "      <td>Retribusi Pemakaian Ruangan                   ...</td>\n",
       "      <td>0</td>\n",
       "      <td>0</td>\n",
       "      <td>31600000</td>\n",
       "    </tr>\n",
       "    <tr>\n",
       "      <th>1</th>\n",
       "      <td>1.0</td>\n",
       "      <td>Provinsi Aceh</td>\n",
       "      <td>Sinergi5</td>\n",
       "      <td>2022</td>\n",
       "      <td>0</td>\n",
       "      <td>1</td>\n",
       "      <td>3</td>\n",
       "      <td>-</td>\n",
       "      <td>1900-01-01</td>\n",
       "      <td>10</td>\n",
       "      <td>...</td>\n",
       "      <td>Retribusi Daerah                              ...</td>\n",
       "      <td>2</td>\n",
       "      <td>Retribusi Jasa Usaha                          ...</td>\n",
       "      <td>1</td>\n",
       "      <td>Retribusi Pemakaian Kekayaan Daerah           ...</td>\n",
       "      <td>1</td>\n",
       "      <td>Retribusi Penyewaan Tanah dan Bangunan        ...</td>\n",
       "      <td>0</td>\n",
       "      <td>0</td>\n",
       "      <td>50000000</td>\n",
       "    </tr>\n",
       "    <tr>\n",
       "      <th>2</th>\n",
       "      <td>1.0</td>\n",
       "      <td>Provinsi Aceh</td>\n",
       "      <td>Sinergi5</td>\n",
       "      <td>2022</td>\n",
       "      <td>0</td>\n",
       "      <td>1</td>\n",
       "      <td>3</td>\n",
       "      <td>-</td>\n",
       "      <td>1900-01-01</td>\n",
       "      <td>10</td>\n",
       "      <td>...</td>\n",
       "      <td>Retribusi Daerah                              ...</td>\n",
       "      <td>2</td>\n",
       "      <td>Retribusi Jasa Usaha                          ...</td>\n",
       "      <td>6</td>\n",
       "      <td>Retribusi Tempat Penginapan/ Pesanggrahan/Vila...</td>\n",
       "      <td>1</td>\n",
       "      <td>Retribusi Pelayanan Tempat Penginapan/ Pesangg...</td>\n",
       "      <td>0</td>\n",
       "      <td>0</td>\n",
       "      <td>57250000</td>\n",
       "    </tr>\n",
       "    <tr>\n",
       "      <th>3</th>\n",
       "      <td>1.0</td>\n",
       "      <td>Provinsi Aceh</td>\n",
       "      <td>Sinergi5</td>\n",
       "      <td>2022</td>\n",
       "      <td>0</td>\n",
       "      <td>1</td>\n",
       "      <td>3</td>\n",
       "      <td>-</td>\n",
       "      <td>1900-01-01</td>\n",
       "      <td>10</td>\n",
       "      <td>...</td>\n",
       "      <td>Lain-lain PAD yang Sah                        ...</td>\n",
       "      <td>11</td>\n",
       "      <td>Pendapatan Denda atas Keterlambatan Pelaksanaa...</td>\n",
       "      <td>1</td>\n",
       "      <td>Pendapatan Denda atas Keterlambatan Pelaksanaa...</td>\n",
       "      <td>1</td>\n",
       "      <td>Pendapatan Denda atas Keterlambatan Pelaksanaa...</td>\n",
       "      <td>0</td>\n",
       "      <td>0</td>\n",
       "      <td>50000000</td>\n",
       "    </tr>\n",
       "    <tr>\n",
       "      <th>4</th>\n",
       "      <td>1.0</td>\n",
       "      <td>Provinsi Aceh</td>\n",
       "      <td>Sinergi5</td>\n",
       "      <td>2022</td>\n",
       "      <td>0</td>\n",
       "      <td>1</td>\n",
       "      <td>3</td>\n",
       "      <td>-</td>\n",
       "      <td>1900-01-01</td>\n",
       "      <td>10</td>\n",
       "      <td>...</td>\n",
       "      <td>Lain-lain PAD yang Sah                        ...</td>\n",
       "      <td>15</td>\n",
       "      <td>Pendapatan dari Pengembalian                  ...</td>\n",
       "      <td>1</td>\n",
       "      <td>Pendapatan dari Pengembalian Kelebihan Pembaya...</td>\n",
       "      <td>1</td>\n",
       "      <td>Pendapatan dari Pengembalian Kelebihan Pembaya...</td>\n",
       "      <td>0</td>\n",
       "      <td>0</td>\n",
       "      <td>600669000</td>\n",
       "    </tr>\n",
       "    <tr>\n",
       "      <th>...</th>\n",
       "      <td>...</td>\n",
       "      <td>...</td>\n",
       "      <td>...</td>\n",
       "      <td>...</td>\n",
       "      <td>...</td>\n",
       "      <td>...</td>\n",
       "      <td>...</td>\n",
       "      <td>...</td>\n",
       "      <td>...</td>\n",
       "      <td>...</td>\n",
       "      <td>...</td>\n",
       "      <td>...</td>\n",
       "      <td>...</td>\n",
       "      <td>...</td>\n",
       "      <td>...</td>\n",
       "      <td>...</td>\n",
       "      <td>...</td>\n",
       "      <td>...</td>\n",
       "      <td>...</td>\n",
       "      <td>...</td>\n",
       "      <td>...</td>\n",
       "    </tr>\n",
       "    <tr>\n",
       "      <th>1995</th>\n",
       "      <td>1.0</td>\n",
       "      <td>Provinsi Aceh</td>\n",
       "      <td>Sinergi5</td>\n",
       "      <td>2022</td>\n",
       "      <td>0</td>\n",
       "      <td>1</td>\n",
       "      <td>3</td>\n",
       "      <td>-</td>\n",
       "      <td>1900-01-01</td>\n",
       "      <td>7</td>\n",
       "      <td>...</td>\n",
       "      <td>Belanja Modal Peralatan dan Mesin             ...</td>\n",
       "      <td>8</td>\n",
       "      <td>Belanja Modal Alat Laboratorium               ...</td>\n",
       "      <td>4</td>\n",
       "      <td>Belanja Modal Alat Laboratorium Fisika Nuklir/...</td>\n",
       "      <td>5</td>\n",
       "      <td>Belanja Modal System/Power Supply             ...</td>\n",
       "      <td>0</td>\n",
       "      <td>0</td>\n",
       "      <td>1087300000</td>\n",
       "    </tr>\n",
       "    <tr>\n",
       "      <th>1996</th>\n",
       "      <td>1.0</td>\n",
       "      <td>Provinsi Aceh</td>\n",
       "      <td>Sinergi5</td>\n",
       "      <td>2022</td>\n",
       "      <td>0</td>\n",
       "      <td>1</td>\n",
       "      <td>3</td>\n",
       "      <td>-</td>\n",
       "      <td>1900-01-01</td>\n",
       "      <td>7</td>\n",
       "      <td>...</td>\n",
       "      <td>Belanja Modal Peralatan dan Mesin             ...</td>\n",
       "      <td>8</td>\n",
       "      <td>Belanja Modal Alat Laboratorium               ...</td>\n",
       "      <td>5</td>\n",
       "      <td>Belanja Modal Alat Proteksi Radiasi/Proteksi L...</td>\n",
       "      <td>2</td>\n",
       "      <td>Alat Kesehatan Kerja                          ...</td>\n",
       "      <td>0</td>\n",
       "      <td>0</td>\n",
       "      <td>53160000</td>\n",
       "    </tr>\n",
       "    <tr>\n",
       "      <th>1997</th>\n",
       "      <td>1.0</td>\n",
       "      <td>Provinsi Aceh</td>\n",
       "      <td>Sinergi5</td>\n",
       "      <td>2022</td>\n",
       "      <td>0</td>\n",
       "      <td>1</td>\n",
       "      <td>3</td>\n",
       "      <td>-</td>\n",
       "      <td>1900-01-01</td>\n",
       "      <td>7</td>\n",
       "      <td>...</td>\n",
       "      <td>Belanja Modal Peralatan dan Mesin             ...</td>\n",
       "      <td>8</td>\n",
       "      <td>Belanja Modal Alat Laboratorium               ...</td>\n",
       "      <td>9</td>\n",
       "      <td>Belanja Modal Alat Laboratorium Standarisasi K...</td>\n",
       "      <td>11</td>\n",
       "      <td>Belanja Modal Alat Laboratorium Standarisasi K...</td>\n",
       "      <td>0</td>\n",
       "      <td>0</td>\n",
       "      <td>642125000</td>\n",
       "    </tr>\n",
       "    <tr>\n",
       "      <th>1998</th>\n",
       "      <td>1.0</td>\n",
       "      <td>Provinsi Aceh</td>\n",
       "      <td>Sinergi5</td>\n",
       "      <td>2022</td>\n",
       "      <td>0</td>\n",
       "      <td>1</td>\n",
       "      <td>3</td>\n",
       "      <td>-</td>\n",
       "      <td>1900-01-01</td>\n",
       "      <td>7</td>\n",
       "      <td>...</td>\n",
       "      <td>Belanja Modal Peralatan dan Mesin             ...</td>\n",
       "      <td>8</td>\n",
       "      <td>Belanja Modal Alat Laboratorium               ...</td>\n",
       "      <td>1</td>\n",
       "      <td>Belanja Modal Unit Alat Laboratorium          ...</td>\n",
       "      <td>11</td>\n",
       "      <td>Belanja Modal Alat Laboratorium Umum          ...</td>\n",
       "      <td>0</td>\n",
       "      <td>0</td>\n",
       "      <td>18891200</td>\n",
       "    </tr>\n",
       "    <tr>\n",
       "      <th>1999</th>\n",
       "      <td>1.0</td>\n",
       "      <td>Provinsi Aceh</td>\n",
       "      <td>Sinergi5</td>\n",
       "      <td>2022</td>\n",
       "      <td>0</td>\n",
       "      <td>1</td>\n",
       "      <td>3</td>\n",
       "      <td>-</td>\n",
       "      <td>1900-01-01</td>\n",
       "      <td>7</td>\n",
       "      <td>...</td>\n",
       "      <td>Belanja Modal Peralatan dan Mesin             ...</td>\n",
       "      <td>8</td>\n",
       "      <td>Belanja Modal Alat Laboratorium               ...</td>\n",
       "      <td>1</td>\n",
       "      <td>Belanja Modal Unit Alat Laboratorium          ...</td>\n",
       "      <td>11</td>\n",
       "      <td>Belanja Modal Alat Laboratorium Umum          ...</td>\n",
       "      <td>0</td>\n",
       "      <td>0</td>\n",
       "      <td>2694027217</td>\n",
       "    </tr>\n",
       "  </tbody>\n",
       "</table>\n",
       "<p>2000 rows × 43 columns</p>\n",
       "</div>"
      ],
      "text/plain": [
       "      kodepemda      namapemda    sumber  tahun  bulan  kodedata  jeniscoa  \\\n",
       "0           1.0  Provinsi Aceh  Sinergi5   2022      0         1         3   \n",
       "1           1.0  Provinsi Aceh  Sinergi5   2022      0         1         3   \n",
       "2           1.0  Provinsi Aceh  Sinergi5   2022      0         1         3   \n",
       "3           1.0  Provinsi Aceh  Sinergi5   2022      0         1         3   \n",
       "4           1.0  Provinsi Aceh  Sinergi5   2022      0         1         3   \n",
       "...         ...            ...       ...    ...    ...       ...       ...   \n",
       "1995        1.0  Provinsi Aceh  Sinergi5   2022      0         1         3   \n",
       "1996        1.0  Provinsi Aceh  Sinergi5   2022      0         1         3   \n",
       "1997        1.0  Provinsi Aceh  Sinergi5   2022      0         1         3   \n",
       "1998        1.0  Provinsi Aceh  Sinergi5   2022      0         1         3   \n",
       "1999        1.0  Provinsi Aceh  Sinergi5   2022      0         1         3   \n",
       "\n",
       "     nomorperda tanggalperda  kodefungsi  ...  \\\n",
       "0             -   1900-01-01          10  ...   \n",
       "1             -   1900-01-01          10  ...   \n",
       "2             -   1900-01-01          10  ...   \n",
       "3             -   1900-01-01          10  ...   \n",
       "4             -   1900-01-01          10  ...   \n",
       "...         ...          ...         ...  ...   \n",
       "1995          -   1900-01-01           7  ...   \n",
       "1996          -   1900-01-01           7  ...   \n",
       "1997          -   1900-01-01           7  ...   \n",
       "1998          -   1900-01-01           7  ...   \n",
       "1999          -   1900-01-01           7  ...   \n",
       "\n",
       "                                          namaakunjenis  kodeakunobjek  \\\n",
       "0     Retribusi Daerah                              ...              2   \n",
       "1     Retribusi Daerah                              ...              2   \n",
       "2     Retribusi Daerah                              ...              2   \n",
       "3     Lain-lain PAD yang Sah                        ...             11   \n",
       "4     Lain-lain PAD yang Sah                        ...             15   \n",
       "...                                                 ...            ...   \n",
       "1995  Belanja Modal Peralatan dan Mesin             ...              8   \n",
       "1996  Belanja Modal Peralatan dan Mesin             ...              8   \n",
       "1997  Belanja Modal Peralatan dan Mesin             ...              8   \n",
       "1998  Belanja Modal Peralatan dan Mesin             ...              8   \n",
       "1999  Belanja Modal Peralatan dan Mesin             ...              8   \n",
       "\n",
       "                                          namaakunobjek kodeakunrinci  \\\n",
       "0     Retribusi Jasa Usaha                          ...             1   \n",
       "1     Retribusi Jasa Usaha                          ...             1   \n",
       "2     Retribusi Jasa Usaha                          ...             6   \n",
       "3     Pendapatan Denda atas Keterlambatan Pelaksanaa...             1   \n",
       "4     Pendapatan dari Pengembalian                  ...             1   \n",
       "...                                                 ...           ...   \n",
       "1995  Belanja Modal Alat Laboratorium               ...             4   \n",
       "1996  Belanja Modal Alat Laboratorium               ...             5   \n",
       "1997  Belanja Modal Alat Laboratorium               ...             9   \n",
       "1998  Belanja Modal Alat Laboratorium               ...             1   \n",
       "1999  Belanja Modal Alat Laboratorium               ...             1   \n",
       "\n",
       "                                          namaakunrinci kodeakunsubrinci  \\\n",
       "0     Retribusi Pemakaian Kekayaan Daerah           ...                5   \n",
       "1     Retribusi Pemakaian Kekayaan Daerah           ...                1   \n",
       "2     Retribusi Tempat Penginapan/ Pesanggrahan/Vila...                1   \n",
       "3     Pendapatan Denda atas Keterlambatan Pelaksanaa...                1   \n",
       "4     Pendapatan dari Pengembalian Kelebihan Pembaya...                1   \n",
       "...                                                 ...              ...   \n",
       "1995  Belanja Modal Alat Laboratorium Fisika Nuklir/...                5   \n",
       "1996  Belanja Modal Alat Proteksi Radiasi/Proteksi L...                2   \n",
       "1997  Belanja Modal Alat Laboratorium Standarisasi K...               11   \n",
       "1998  Belanja Modal Unit Alat Laboratorium          ...               11   \n",
       "1999  Belanja Modal Unit Alat Laboratorium          ...               11   \n",
       "\n",
       "                                       namaakunsubrinci volume  hargasatuan  \\\n",
       "0     Retribusi Pemakaian Ruangan                   ...      0            0   \n",
       "1     Retribusi Penyewaan Tanah dan Bangunan        ...      0            0   \n",
       "2     Retribusi Pelayanan Tempat Penginapan/ Pesangg...      0            0   \n",
       "3     Pendapatan Denda atas Keterlambatan Pelaksanaa...      0            0   \n",
       "4     Pendapatan dari Pengembalian Kelebihan Pembaya...      0            0   \n",
       "...                                                 ...    ...          ...   \n",
       "1995  Belanja Modal System/Power Supply             ...      0            0   \n",
       "1996  Alat Kesehatan Kerja                          ...      0            0   \n",
       "1997  Belanja Modal Alat Laboratorium Standarisasi K...      0            0   \n",
       "1998  Belanja Modal Alat Laboratorium Umum          ...      0            0   \n",
       "1999  Belanja Modal Alat Laboratorium Umum          ...      0            0   \n",
       "\n",
       "     nilaianggaran  \n",
       "0         31600000  \n",
       "1         50000000  \n",
       "2         57250000  \n",
       "3         50000000  \n",
       "4        600669000  \n",
       "...            ...  \n",
       "1995    1087300000  \n",
       "1996      53160000  \n",
       "1997     642125000  \n",
       "1998      18891200  \n",
       "1999    2694027217  \n",
       "\n",
       "[2000 rows x 43 columns]"
      ]
     },
     "execution_count": 11,
     "metadata": {},
     "output_type": "execute_result"
    }
   ],
   "source": [
    "#Drop kolom yang memiliki missing value\n",
    "\n",
    "data2 = data.drop(['namaaplikasi', 'pengembangaplikasi', 'namasubfungsi',  'namaoutcome', 'satuanoutcome', 'namaoutput', 'satuanoutput', 'kodelokasi', 'namalokasi', 'kodeakunsubsubrinci', 'namaakunsubsubrinci', 'kodeakunsubsubsubrinci', 'namaakunsubsubsubrinci', 'satuan', 'kodesumberdana' , 'namasumberdana', 'catatan'], axis = 1)\n",
    "data2"
   ]
  },
  {
   "cell_type": "code",
   "execution_count": null,
   "metadata": {},
   "outputs": [
    {
     "data": {
      "text/plain": [
       "array([10,  7,  6,  3, 11,  4,  5,  8,  1], dtype=int64)"
      ]
     },
     "execution_count": 12,
     "metadata": {},
     "output_type": "execute_result"
    }
   ],
   "source": [
    "#Mencari data unik\n",
    "\n",
    "data2['kodefungsi'].unique()"
   ]
  },
  {
   "cell_type": "code",
   "execution_count": null,
   "metadata": {},
   "outputs": [
    {
     "data": {
      "text/plain": [
       "1       47\n",
       "3        2\n",
       "4       40\n",
       "5        1\n",
       "6        4\n",
       "7      582\n",
       "8        3\n",
       "10    1320\n",
       "11       1\n",
       "Name: kodefungsi, dtype: int64"
      ]
     },
     "execution_count": 13,
     "metadata": {},
     "output_type": "execute_result"
    }
   ],
   "source": [
    "data2.kodefungsi.value_counts().sort_index()"
   ]
  },
  {
   "cell_type": "code",
   "execution_count": null,
   "metadata": {},
   "outputs": [
    {
     "data": {
      "text/plain": [
       "kodepemda              0\n",
       "namapemda              0\n",
       "sumber                 0\n",
       "tahun                  0\n",
       "bulan                  0\n",
       "kodedata               0\n",
       "jeniscoa               0\n",
       "nomorperda             0\n",
       "tanggalperda           0\n",
       "kodefungsi             0\n",
       "namafungsi             0\n",
       "kodesubfungsi          0\n",
       "kodeurusanprogram      0\n",
       "namaurusanprogram      0\n",
       "kodeurusanpelaksana    0\n",
       "namaurusanpelaksana    0\n",
       "kodeskpd               0\n",
       "namaskpd               0\n",
       "kodeunitskpd           0\n",
       "namaunitskpd           0\n",
       "kodeprogram            0\n",
       "namaprogram            0\n",
       "targetoutcome          0\n",
       "kodekegiatan           0\n",
       "namakegiatan           0\n",
       "kodesubkegiatan        0\n",
       "namasubkegiatan        0\n",
       "targetoutput           0\n",
       "kodeakunutama          0\n",
       "namaakunutama          0\n",
       "kodeakunkelompok       0\n",
       "namaakunkelompok       0\n",
       "kodeakunjenis          0\n",
       "namaakunjenis          0\n",
       "kodeakunobjek          0\n",
       "namaakunobjek          0\n",
       "kodeakunrinci          0\n",
       "namaakunrinci          0\n",
       "kodeakunsubrinci       0\n",
       "namaakunsubrinci       0\n",
       "volume                 0\n",
       "hargasatuan            0\n",
       "nilaianggaran          0\n",
       "dtype: int64"
      ]
     },
     "execution_count": 14,
     "metadata": {},
     "output_type": "execute_result"
    }
   ],
   "source": [
    "#Mengecek kembali.\n",
    "\n",
    "data2.isnull().sum()"
   ]
  },
  {
   "cell_type": "code",
   "execution_count": null,
   "metadata": {},
   "outputs": [
    {
     "data": {
      "text/html": [
       "<div>\n",
       "<style scoped>\n",
       "    .dataframe tbody tr th:only-of-type {\n",
       "        vertical-align: middle;\n",
       "    }\n",
       "\n",
       "    .dataframe tbody tr th {\n",
       "        vertical-align: top;\n",
       "    }\n",
       "\n",
       "    .dataframe thead th {\n",
       "        text-align: right;\n",
       "    }\n",
       "</style>\n",
       "<table border=\"1\" class=\"dataframe\">\n",
       "  <thead>\n",
       "    <tr style=\"text-align: right;\">\n",
       "      <th></th>\n",
       "      <th>kodepemda</th>\n",
       "      <th>namapemda</th>\n",
       "      <th>sumber</th>\n",
       "      <th>tahun</th>\n",
       "      <th>bulan</th>\n",
       "      <th>kodedata</th>\n",
       "      <th>jeniscoa</th>\n",
       "      <th>nomorperda</th>\n",
       "      <th>tanggalperda</th>\n",
       "      <th>kodefungsi</th>\n",
       "      <th>...</th>\n",
       "      <th>namaakunjenis</th>\n",
       "      <th>kodeakunobjek</th>\n",
       "      <th>namaakunobjek</th>\n",
       "      <th>kodeakunrinci</th>\n",
       "      <th>namaakunrinci</th>\n",
       "      <th>kodeakunsubrinci</th>\n",
       "      <th>namaakunsubrinci</th>\n",
       "      <th>volume</th>\n",
       "      <th>hargasatuan</th>\n",
       "      <th>nilaianggaran</th>\n",
       "    </tr>\n",
       "  </thead>\n",
       "  <tbody>\n",
       "    <tr>\n",
       "      <th>0</th>\n",
       "      <td>1.0</td>\n",
       "      <td>Provinsi Aceh</td>\n",
       "      <td>Sinergi5</td>\n",
       "      <td>2022</td>\n",
       "      <td>0</td>\n",
       "      <td>1</td>\n",
       "      <td>3</td>\n",
       "      <td>-</td>\n",
       "      <td>1900-01-01</td>\n",
       "      <td>10</td>\n",
       "      <td>...</td>\n",
       "      <td>Retribusi Daerah                              ...</td>\n",
       "      <td>2</td>\n",
       "      <td>Retribusi Jasa Usaha                          ...</td>\n",
       "      <td>1</td>\n",
       "      <td>Retribusi Pemakaian Kekayaan Daerah           ...</td>\n",
       "      <td>5</td>\n",
       "      <td>Retribusi Pemakaian Ruangan                   ...</td>\n",
       "      <td>0</td>\n",
       "      <td>0</td>\n",
       "      <td>31600000</td>\n",
       "    </tr>\n",
       "    <tr>\n",
       "      <th>1</th>\n",
       "      <td>1.0</td>\n",
       "      <td>Provinsi Aceh</td>\n",
       "      <td>Sinergi5</td>\n",
       "      <td>2022</td>\n",
       "      <td>0</td>\n",
       "      <td>1</td>\n",
       "      <td>3</td>\n",
       "      <td>-</td>\n",
       "      <td>1900-01-01</td>\n",
       "      <td>10</td>\n",
       "      <td>...</td>\n",
       "      <td>Retribusi Daerah                              ...</td>\n",
       "      <td>2</td>\n",
       "      <td>Retribusi Jasa Usaha                          ...</td>\n",
       "      <td>1</td>\n",
       "      <td>Retribusi Pemakaian Kekayaan Daerah           ...</td>\n",
       "      <td>1</td>\n",
       "      <td>Retribusi Penyewaan Tanah dan Bangunan        ...</td>\n",
       "      <td>0</td>\n",
       "      <td>0</td>\n",
       "      <td>50000000</td>\n",
       "    </tr>\n",
       "    <tr>\n",
       "      <th>2</th>\n",
       "      <td>1.0</td>\n",
       "      <td>Provinsi Aceh</td>\n",
       "      <td>Sinergi5</td>\n",
       "      <td>2022</td>\n",
       "      <td>0</td>\n",
       "      <td>1</td>\n",
       "      <td>3</td>\n",
       "      <td>-</td>\n",
       "      <td>1900-01-01</td>\n",
       "      <td>10</td>\n",
       "      <td>...</td>\n",
       "      <td>Retribusi Daerah                              ...</td>\n",
       "      <td>2</td>\n",
       "      <td>Retribusi Jasa Usaha                          ...</td>\n",
       "      <td>6</td>\n",
       "      <td>Retribusi Tempat Penginapan/ Pesanggrahan/Vila...</td>\n",
       "      <td>1</td>\n",
       "      <td>Retribusi Pelayanan Tempat Penginapan/ Pesangg...</td>\n",
       "      <td>0</td>\n",
       "      <td>0</td>\n",
       "      <td>57250000</td>\n",
       "    </tr>\n",
       "    <tr>\n",
       "      <th>3</th>\n",
       "      <td>1.0</td>\n",
       "      <td>Provinsi Aceh</td>\n",
       "      <td>Sinergi5</td>\n",
       "      <td>2022</td>\n",
       "      <td>0</td>\n",
       "      <td>1</td>\n",
       "      <td>3</td>\n",
       "      <td>-</td>\n",
       "      <td>1900-01-01</td>\n",
       "      <td>10</td>\n",
       "      <td>...</td>\n",
       "      <td>Lain-lain PAD yang Sah                        ...</td>\n",
       "      <td>11</td>\n",
       "      <td>Pendapatan Denda atas Keterlambatan Pelaksanaa...</td>\n",
       "      <td>1</td>\n",
       "      <td>Pendapatan Denda atas Keterlambatan Pelaksanaa...</td>\n",
       "      <td>1</td>\n",
       "      <td>Pendapatan Denda atas Keterlambatan Pelaksanaa...</td>\n",
       "      <td>0</td>\n",
       "      <td>0</td>\n",
       "      <td>50000000</td>\n",
       "    </tr>\n",
       "    <tr>\n",
       "      <th>4</th>\n",
       "      <td>1.0</td>\n",
       "      <td>Provinsi Aceh</td>\n",
       "      <td>Sinergi5</td>\n",
       "      <td>2022</td>\n",
       "      <td>0</td>\n",
       "      <td>1</td>\n",
       "      <td>3</td>\n",
       "      <td>-</td>\n",
       "      <td>1900-01-01</td>\n",
       "      <td>10</td>\n",
       "      <td>...</td>\n",
       "      <td>Lain-lain PAD yang Sah                        ...</td>\n",
       "      <td>15</td>\n",
       "      <td>Pendapatan dari Pengembalian                  ...</td>\n",
       "      <td>1</td>\n",
       "      <td>Pendapatan dari Pengembalian Kelebihan Pembaya...</td>\n",
       "      <td>1</td>\n",
       "      <td>Pendapatan dari Pengembalian Kelebihan Pembaya...</td>\n",
       "      <td>0</td>\n",
       "      <td>0</td>\n",
       "      <td>600669000</td>\n",
       "    </tr>\n",
       "  </tbody>\n",
       "</table>\n",
       "<p>5 rows × 43 columns</p>\n",
       "</div>"
      ],
      "text/plain": [
       "   kodepemda      namapemda    sumber  tahun  bulan  kodedata  jeniscoa  \\\n",
       "0        1.0  Provinsi Aceh  Sinergi5   2022      0         1         3   \n",
       "1        1.0  Provinsi Aceh  Sinergi5   2022      0         1         3   \n",
       "2        1.0  Provinsi Aceh  Sinergi5   2022      0         1         3   \n",
       "3        1.0  Provinsi Aceh  Sinergi5   2022      0         1         3   \n",
       "4        1.0  Provinsi Aceh  Sinergi5   2022      0         1         3   \n",
       "\n",
       "  nomorperda tanggalperda  kodefungsi  ...  \\\n",
       "0          -   1900-01-01          10  ...   \n",
       "1          -   1900-01-01          10  ...   \n",
       "2          -   1900-01-01          10  ...   \n",
       "3          -   1900-01-01          10  ...   \n",
       "4          -   1900-01-01          10  ...   \n",
       "\n",
       "                                       namaakunjenis  kodeakunobjek  \\\n",
       "0  Retribusi Daerah                              ...              2   \n",
       "1  Retribusi Daerah                              ...              2   \n",
       "2  Retribusi Daerah                              ...              2   \n",
       "3  Lain-lain PAD yang Sah                        ...             11   \n",
       "4  Lain-lain PAD yang Sah                        ...             15   \n",
       "\n",
       "                                       namaakunobjek kodeakunrinci  \\\n",
       "0  Retribusi Jasa Usaha                          ...             1   \n",
       "1  Retribusi Jasa Usaha                          ...             1   \n",
       "2  Retribusi Jasa Usaha                          ...             6   \n",
       "3  Pendapatan Denda atas Keterlambatan Pelaksanaa...             1   \n",
       "4  Pendapatan dari Pengembalian                  ...             1   \n",
       "\n",
       "                                       namaakunrinci kodeakunsubrinci  \\\n",
       "0  Retribusi Pemakaian Kekayaan Daerah           ...                5   \n",
       "1  Retribusi Pemakaian Kekayaan Daerah           ...                1   \n",
       "2  Retribusi Tempat Penginapan/ Pesanggrahan/Vila...                1   \n",
       "3  Pendapatan Denda atas Keterlambatan Pelaksanaa...                1   \n",
       "4  Pendapatan dari Pengembalian Kelebihan Pembaya...                1   \n",
       "\n",
       "                                    namaakunsubrinci volume  hargasatuan  \\\n",
       "0  Retribusi Pemakaian Ruangan                   ...      0            0   \n",
       "1  Retribusi Penyewaan Tanah dan Bangunan        ...      0            0   \n",
       "2  Retribusi Pelayanan Tempat Penginapan/ Pesangg...      0            0   \n",
       "3  Pendapatan Denda atas Keterlambatan Pelaksanaa...      0            0   \n",
       "4  Pendapatan dari Pengembalian Kelebihan Pembaya...      0            0   \n",
       "\n",
       "  nilaianggaran  \n",
       "0      31600000  \n",
       "1      50000000  \n",
       "2      57250000  \n",
       "3      50000000  \n",
       "4     600669000  \n",
       "\n",
       "[5 rows x 43 columns]"
      ]
     },
     "execution_count": 15,
     "metadata": {},
     "output_type": "execute_result"
    }
   ],
   "source": [
    "data2.head()"
   ]
  },
  {
   "cell_type": "code",
   "execution_count": null,
   "metadata": {},
   "outputs": [
    {
     "data": {
      "text/html": [
       "<div>\n",
       "<style scoped>\n",
       "    .dataframe tbody tr th:only-of-type {\n",
       "        vertical-align: middle;\n",
       "    }\n",
       "\n",
       "    .dataframe tbody tr th {\n",
       "        vertical-align: top;\n",
       "    }\n",
       "\n",
       "    .dataframe thead th {\n",
       "        text-align: right;\n",
       "    }\n",
       "</style>\n",
       "<table border=\"1\" class=\"dataframe\">\n",
       "  <thead>\n",
       "    <tr style=\"text-align: right;\">\n",
       "      <th></th>\n",
       "      <th>kodepemda</th>\n",
       "      <th>namapemda</th>\n",
       "      <th>sumber</th>\n",
       "      <th>tahun</th>\n",
       "      <th>bulan</th>\n",
       "      <th>kodedata</th>\n",
       "      <th>jeniscoa</th>\n",
       "      <th>nomorperda</th>\n",
       "      <th>tanggalperda</th>\n",
       "      <th>kodefungsi</th>\n",
       "      <th>...</th>\n",
       "      <th>namaakunjenis</th>\n",
       "      <th>kodeakunobjek</th>\n",
       "      <th>namaakunobjek</th>\n",
       "      <th>kodeakunrinci</th>\n",
       "      <th>namaakunrinci</th>\n",
       "      <th>kodeakunsubrinci</th>\n",
       "      <th>namaakunsubrinci</th>\n",
       "      <th>volume</th>\n",
       "      <th>hargasatuan</th>\n",
       "      <th>nilaianggaran</th>\n",
       "    </tr>\n",
       "  </thead>\n",
       "  <tbody>\n",
       "    <tr>\n",
       "      <th>1995</th>\n",
       "      <td>1.0</td>\n",
       "      <td>Provinsi Aceh</td>\n",
       "      <td>Sinergi5</td>\n",
       "      <td>2022</td>\n",
       "      <td>0</td>\n",
       "      <td>1</td>\n",
       "      <td>3</td>\n",
       "      <td>-</td>\n",
       "      <td>1900-01-01</td>\n",
       "      <td>7</td>\n",
       "      <td>...</td>\n",
       "      <td>Belanja Modal Peralatan dan Mesin             ...</td>\n",
       "      <td>8</td>\n",
       "      <td>Belanja Modal Alat Laboratorium               ...</td>\n",
       "      <td>4</td>\n",
       "      <td>Belanja Modal Alat Laboratorium Fisika Nuklir/...</td>\n",
       "      <td>5</td>\n",
       "      <td>Belanja Modal System/Power Supply             ...</td>\n",
       "      <td>0</td>\n",
       "      <td>0</td>\n",
       "      <td>1087300000</td>\n",
       "    </tr>\n",
       "    <tr>\n",
       "      <th>1996</th>\n",
       "      <td>1.0</td>\n",
       "      <td>Provinsi Aceh</td>\n",
       "      <td>Sinergi5</td>\n",
       "      <td>2022</td>\n",
       "      <td>0</td>\n",
       "      <td>1</td>\n",
       "      <td>3</td>\n",
       "      <td>-</td>\n",
       "      <td>1900-01-01</td>\n",
       "      <td>7</td>\n",
       "      <td>...</td>\n",
       "      <td>Belanja Modal Peralatan dan Mesin             ...</td>\n",
       "      <td>8</td>\n",
       "      <td>Belanja Modal Alat Laboratorium               ...</td>\n",
       "      <td>5</td>\n",
       "      <td>Belanja Modal Alat Proteksi Radiasi/Proteksi L...</td>\n",
       "      <td>2</td>\n",
       "      <td>Alat Kesehatan Kerja                          ...</td>\n",
       "      <td>0</td>\n",
       "      <td>0</td>\n",
       "      <td>53160000</td>\n",
       "    </tr>\n",
       "    <tr>\n",
       "      <th>1997</th>\n",
       "      <td>1.0</td>\n",
       "      <td>Provinsi Aceh</td>\n",
       "      <td>Sinergi5</td>\n",
       "      <td>2022</td>\n",
       "      <td>0</td>\n",
       "      <td>1</td>\n",
       "      <td>3</td>\n",
       "      <td>-</td>\n",
       "      <td>1900-01-01</td>\n",
       "      <td>7</td>\n",
       "      <td>...</td>\n",
       "      <td>Belanja Modal Peralatan dan Mesin             ...</td>\n",
       "      <td>8</td>\n",
       "      <td>Belanja Modal Alat Laboratorium               ...</td>\n",
       "      <td>9</td>\n",
       "      <td>Belanja Modal Alat Laboratorium Standarisasi K...</td>\n",
       "      <td>11</td>\n",
       "      <td>Belanja Modal Alat Laboratorium Standarisasi K...</td>\n",
       "      <td>0</td>\n",
       "      <td>0</td>\n",
       "      <td>642125000</td>\n",
       "    </tr>\n",
       "    <tr>\n",
       "      <th>1998</th>\n",
       "      <td>1.0</td>\n",
       "      <td>Provinsi Aceh</td>\n",
       "      <td>Sinergi5</td>\n",
       "      <td>2022</td>\n",
       "      <td>0</td>\n",
       "      <td>1</td>\n",
       "      <td>3</td>\n",
       "      <td>-</td>\n",
       "      <td>1900-01-01</td>\n",
       "      <td>7</td>\n",
       "      <td>...</td>\n",
       "      <td>Belanja Modal Peralatan dan Mesin             ...</td>\n",
       "      <td>8</td>\n",
       "      <td>Belanja Modal Alat Laboratorium               ...</td>\n",
       "      <td>1</td>\n",
       "      <td>Belanja Modal Unit Alat Laboratorium          ...</td>\n",
       "      <td>11</td>\n",
       "      <td>Belanja Modal Alat Laboratorium Umum          ...</td>\n",
       "      <td>0</td>\n",
       "      <td>0</td>\n",
       "      <td>18891200</td>\n",
       "    </tr>\n",
       "    <tr>\n",
       "      <th>1999</th>\n",
       "      <td>1.0</td>\n",
       "      <td>Provinsi Aceh</td>\n",
       "      <td>Sinergi5</td>\n",
       "      <td>2022</td>\n",
       "      <td>0</td>\n",
       "      <td>1</td>\n",
       "      <td>3</td>\n",
       "      <td>-</td>\n",
       "      <td>1900-01-01</td>\n",
       "      <td>7</td>\n",
       "      <td>...</td>\n",
       "      <td>Belanja Modal Peralatan dan Mesin             ...</td>\n",
       "      <td>8</td>\n",
       "      <td>Belanja Modal Alat Laboratorium               ...</td>\n",
       "      <td>1</td>\n",
       "      <td>Belanja Modal Unit Alat Laboratorium          ...</td>\n",
       "      <td>11</td>\n",
       "      <td>Belanja Modal Alat Laboratorium Umum          ...</td>\n",
       "      <td>0</td>\n",
       "      <td>0</td>\n",
       "      <td>2694027217</td>\n",
       "    </tr>\n",
       "  </tbody>\n",
       "</table>\n",
       "<p>5 rows × 43 columns</p>\n",
       "</div>"
      ],
      "text/plain": [
       "      kodepemda      namapemda    sumber  tahun  bulan  kodedata  jeniscoa  \\\n",
       "1995        1.0  Provinsi Aceh  Sinergi5   2022      0         1         3   \n",
       "1996        1.0  Provinsi Aceh  Sinergi5   2022      0         1         3   \n",
       "1997        1.0  Provinsi Aceh  Sinergi5   2022      0         1         3   \n",
       "1998        1.0  Provinsi Aceh  Sinergi5   2022      0         1         3   \n",
       "1999        1.0  Provinsi Aceh  Sinergi5   2022      0         1         3   \n",
       "\n",
       "     nomorperda tanggalperda  kodefungsi  ...  \\\n",
       "1995          -   1900-01-01           7  ...   \n",
       "1996          -   1900-01-01           7  ...   \n",
       "1997          -   1900-01-01           7  ...   \n",
       "1998          -   1900-01-01           7  ...   \n",
       "1999          -   1900-01-01           7  ...   \n",
       "\n",
       "                                          namaakunjenis  kodeakunobjek  \\\n",
       "1995  Belanja Modal Peralatan dan Mesin             ...              8   \n",
       "1996  Belanja Modal Peralatan dan Mesin             ...              8   \n",
       "1997  Belanja Modal Peralatan dan Mesin             ...              8   \n",
       "1998  Belanja Modal Peralatan dan Mesin             ...              8   \n",
       "1999  Belanja Modal Peralatan dan Mesin             ...              8   \n",
       "\n",
       "                                          namaakunobjek kodeakunrinci  \\\n",
       "1995  Belanja Modal Alat Laboratorium               ...             4   \n",
       "1996  Belanja Modal Alat Laboratorium               ...             5   \n",
       "1997  Belanja Modal Alat Laboratorium               ...             9   \n",
       "1998  Belanja Modal Alat Laboratorium               ...             1   \n",
       "1999  Belanja Modal Alat Laboratorium               ...             1   \n",
       "\n",
       "                                          namaakunrinci kodeakunsubrinci  \\\n",
       "1995  Belanja Modal Alat Laboratorium Fisika Nuklir/...                5   \n",
       "1996  Belanja Modal Alat Proteksi Radiasi/Proteksi L...                2   \n",
       "1997  Belanja Modal Alat Laboratorium Standarisasi K...               11   \n",
       "1998  Belanja Modal Unit Alat Laboratorium          ...               11   \n",
       "1999  Belanja Modal Unit Alat Laboratorium          ...               11   \n",
       "\n",
       "                                       namaakunsubrinci volume  hargasatuan  \\\n",
       "1995  Belanja Modal System/Power Supply             ...      0            0   \n",
       "1996  Alat Kesehatan Kerja                          ...      0            0   \n",
       "1997  Belanja Modal Alat Laboratorium Standarisasi K...      0            0   \n",
       "1998  Belanja Modal Alat Laboratorium Umum          ...      0            0   \n",
       "1999  Belanja Modal Alat Laboratorium Umum          ...      0            0   \n",
       "\n",
       "     nilaianggaran  \n",
       "1995    1087300000  \n",
       "1996      53160000  \n",
       "1997     642125000  \n",
       "1998      18891200  \n",
       "1999    2694027217  \n",
       "\n",
       "[5 rows x 43 columns]"
      ]
     },
     "execution_count": 16,
     "metadata": {},
     "output_type": "execute_result"
    }
   ],
   "source": [
    "data2.tail()"
   ]
  },
  {
   "cell_type": "code",
   "execution_count": null,
   "metadata": {},
   "outputs": [
    {
     "data": {
      "text/plain": [
       "<bound method DataFrame.corr of       kodepemda      namapemda    sumber  tahun  bulan  kodedata  jeniscoa  \\\n",
       "0           1.0  Provinsi Aceh  Sinergi5   2022      0         1         3   \n",
       "1           1.0  Provinsi Aceh  Sinergi5   2022      0         1         3   \n",
       "2           1.0  Provinsi Aceh  Sinergi5   2022      0         1         3   \n",
       "3           1.0  Provinsi Aceh  Sinergi5   2022      0         1         3   \n",
       "4           1.0  Provinsi Aceh  Sinergi5   2022      0         1         3   \n",
       "...         ...            ...       ...    ...    ...       ...       ...   \n",
       "1995        1.0  Provinsi Aceh  Sinergi5   2022      0         1         3   \n",
       "1996        1.0  Provinsi Aceh  Sinergi5   2022      0         1         3   \n",
       "1997        1.0  Provinsi Aceh  Sinergi5   2022      0         1         3   \n",
       "1998        1.0  Provinsi Aceh  Sinergi5   2022      0         1         3   \n",
       "1999        1.0  Provinsi Aceh  Sinergi5   2022      0         1         3   \n",
       "\n",
       "     nomorperda tanggalperda  kodefungsi  ...  \\\n",
       "0             -   1900-01-01          10  ...   \n",
       "1             -   1900-01-01          10  ...   \n",
       "2             -   1900-01-01          10  ...   \n",
       "3             -   1900-01-01          10  ...   \n",
       "4             -   1900-01-01          10  ...   \n",
       "...         ...          ...         ...  ...   \n",
       "1995          -   1900-01-01           7  ...   \n",
       "1996          -   1900-01-01           7  ...   \n",
       "1997          -   1900-01-01           7  ...   \n",
       "1998          -   1900-01-01           7  ...   \n",
       "1999          -   1900-01-01           7  ...   \n",
       "\n",
       "                                          namaakunjenis  kodeakunobjek  \\\n",
       "0     Retribusi Daerah                              ...              2   \n",
       "1     Retribusi Daerah                              ...              2   \n",
       "2     Retribusi Daerah                              ...              2   \n",
       "3     Lain-lain PAD yang Sah                        ...             11   \n",
       "4     Lain-lain PAD yang Sah                        ...             15   \n",
       "...                                                 ...            ...   \n",
       "1995  Belanja Modal Peralatan dan Mesin             ...              8   \n",
       "1996  Belanja Modal Peralatan dan Mesin             ...              8   \n",
       "1997  Belanja Modal Peralatan dan Mesin             ...              8   \n",
       "1998  Belanja Modal Peralatan dan Mesin             ...              8   \n",
       "1999  Belanja Modal Peralatan dan Mesin             ...              8   \n",
       "\n",
       "                                          namaakunobjek kodeakunrinci  \\\n",
       "0     Retribusi Jasa Usaha                          ...             1   \n",
       "1     Retribusi Jasa Usaha                          ...             1   \n",
       "2     Retribusi Jasa Usaha                          ...             6   \n",
       "3     Pendapatan Denda atas Keterlambatan Pelaksanaa...             1   \n",
       "4     Pendapatan dari Pengembalian                  ...             1   \n",
       "...                                                 ...           ...   \n",
       "1995  Belanja Modal Alat Laboratorium               ...             4   \n",
       "1996  Belanja Modal Alat Laboratorium               ...             5   \n",
       "1997  Belanja Modal Alat Laboratorium               ...             9   \n",
       "1998  Belanja Modal Alat Laboratorium               ...             1   \n",
       "1999  Belanja Modal Alat Laboratorium               ...             1   \n",
       "\n",
       "                                          namaakunrinci kodeakunsubrinci  \\\n",
       "0     Retribusi Pemakaian Kekayaan Daerah           ...                5   \n",
       "1     Retribusi Pemakaian Kekayaan Daerah           ...                1   \n",
       "2     Retribusi Tempat Penginapan/ Pesanggrahan/Vila...                1   \n",
       "3     Pendapatan Denda atas Keterlambatan Pelaksanaa...                1   \n",
       "4     Pendapatan dari Pengembalian Kelebihan Pembaya...                1   \n",
       "...                                                 ...              ...   \n",
       "1995  Belanja Modal Alat Laboratorium Fisika Nuklir/...                5   \n",
       "1996  Belanja Modal Alat Proteksi Radiasi/Proteksi L...                2   \n",
       "1997  Belanja Modal Alat Laboratorium Standarisasi K...               11   \n",
       "1998  Belanja Modal Unit Alat Laboratorium          ...               11   \n",
       "1999  Belanja Modal Unit Alat Laboratorium          ...               11   \n",
       "\n",
       "                                       namaakunsubrinci volume  hargasatuan  \\\n",
       "0     Retribusi Pemakaian Ruangan                   ...      0            0   \n",
       "1     Retribusi Penyewaan Tanah dan Bangunan        ...      0            0   \n",
       "2     Retribusi Pelayanan Tempat Penginapan/ Pesangg...      0            0   \n",
       "3     Pendapatan Denda atas Keterlambatan Pelaksanaa...      0            0   \n",
       "4     Pendapatan dari Pengembalian Kelebihan Pembaya...      0            0   \n",
       "...                                                 ...    ...          ...   \n",
       "1995  Belanja Modal System/Power Supply             ...      0            0   \n",
       "1996  Alat Kesehatan Kerja                          ...      0            0   \n",
       "1997  Belanja Modal Alat Laboratorium Standarisasi K...      0            0   \n",
       "1998  Belanja Modal Alat Laboratorium Umum          ...      0            0   \n",
       "1999  Belanja Modal Alat Laboratorium Umum          ...      0            0   \n",
       "\n",
       "     nilaianggaran  \n",
       "0         31600000  \n",
       "1         50000000  \n",
       "2         57250000  \n",
       "3         50000000  \n",
       "4        600669000  \n",
       "...            ...  \n",
       "1995    1087300000  \n",
       "1996      53160000  \n",
       "1997     642125000  \n",
       "1998      18891200  \n",
       "1999    2694027217  \n",
       "\n",
       "[2000 rows x 43 columns]>"
      ]
     },
     "execution_count": 13,
     "metadata": {},
     "output_type": "execute_result"
    }
   ],
   "source": [
    "#Mencari korelasi antar data.\n",
    "\n",
    "data2.corr"
   ]
  },
  {
   "cell_type": "code",
   "execution_count": null,
   "metadata": {},
   "outputs": [
    {
     "data": {
      "text/plain": [
       "<AxesSubplot:>"
      ]
     },
     "execution_count": 17,
     "metadata": {},
     "output_type": "execute_result"
    },
    {
     "data": {
      "image/png": "[encoded data removed]",
      "text/plain": [
       "<Figure size 792x648 with 2 Axes>"
      ]
     },
     "metadata": {
      "needs_background": "light"
     },
     "output_type": "display_data"
    }
   ],
   "source": [
    "#Mencari korelasi menggunakan heatmap.\n",
    "corr = data2.corr()\n",
    "\n",
    "mask = np.triu(np.ones_like(corr, dtype=bool))\n",
    "\n",
    "f, ax = plt.subplots(figsize=(11, 9))\n",
    "\n",
    "cmap = sns.diverging_palette(230, 20, as_cmap=True)\n",
    "\n",
    "sns.heatmap(corr, mask=mask, cmap=cmap, vmax=.3, center=0, square=True, linewidths=.5, cbar_kws={\"shrink\": .5})"
   ]
  },
  {
   "cell_type": "code",
   "execution_count": null,
   "metadata": {},
   "outputs": [
    {
     "data": {
      "text/plain": [
       "0.977059001695074"
      ]
     },
     "execution_count": 18,
     "metadata": {},
     "output_type": "execute_result"
    }
   ],
   "source": [
    "#Mengecek nilai dari korelasi tersebut.\n",
    "\n",
    "korelasi = data2['kodeakunutama'].corr(data2['kodekegiatan'])\n",
    "korelasi"
   ]
  },
  {
   "cell_type": "code",
   "execution_count": null,
   "metadata": {},
   "outputs": [
    {
     "data": {
      "image/png": "[encoded data removed]",
      "text/plain": [
       "<Figure size 360x360 with 1 Axes>"
      ]
     },
     "metadata": {
      "needs_background": "light"
     },
     "output_type": "display_data"
    }
   ],
   "source": [
    "#Melihat relasi menggunakan lineplot\n",
    "\n",
    "sns.relplot(x=\"kodekegiatan\", y=\"kodeakunutama\", ci=None, kind=\"line\", data=data2);"
   ]
  },
  {
   "cell_type": "markdown",
   "metadata": {},
   "source": [
    "EDA"
   ]
  },
  {
   "cell_type": "code",
   "execution_count": null,
   "metadata": {},
   "outputs": [],
   "source": [
    "def plot_uni_cat(d):\n",
    "    f,ax = plt.subplots(nrows=1,ncols=2,figsize=(8,5))\n",
    "    f.suptitle(d.name+' Wise Sale',fontsize=15)\n",
    "    sns.countplot(d,ax=ax[0])\n",
    "    d.value_counts().plot.pie(autopct='%1.1f%%',ax=ax[1])\n",
    "    plt.tight_layout()"
   ]
  },
  {
   "cell_type": "code",
   "execution_count": null,
   "metadata": {},
   "outputs": [
    {
     "name": "stdout",
     "output_type": "stream",
     "text": [
      "101000    647\n",
      "102000    563\n",
      "106000    159\n",
      "108000    144\n",
      "103000    143\n",
      "0         120\n",
      "109000     94\n",
      "107000     57\n",
      "105000     35\n",
      "104000     32\n",
      "110000      6\n",
      "Name: kodekegiatan, dtype: int64\n"
     ]
    },
    {
     "name": "stderr",
     "output_type": "stream",
     "text": [
      "c:\\Users\\hp5cg\\AppData\\Local\\Programs\\Python\\Python310\\lib\\site-packages\\seaborn\\_decorators.py:36: FutureWarning: Pass the following variable as a keyword arg: x. From version 0.12, the only valid positional argument will be `data`, and passing other arguments without an explicit keyword will result in an error or misinterpretation.\n",
      "  warnings.warn(\n"
     ]
    },
    {
     "data": {
      "image/png": "[encoded data removed]",
      "text/plain": [
       "<Figure size 576x360 with 2 Axes>"
      ]
     },
     "metadata": {
      "needs_background": "light"
     },
     "output_type": "display_data"
    }
   ],
   "source": [
    "print(data2.kodekegiatan.value_counts())\n",
    "plot_uni_cat(data2['kodekegiatan'])"
   ]
  },
  {
   "cell_type": "markdown",
   "metadata": {},
   "source": [
    "Numerical Features"
   ]
  },
  {
   "cell_type": "code",
   "execution_count": null,
   "metadata": {},
   "outputs": [],
   "source": [
    "def plot_uni(d):\n",
    "    f,ax = plt.subplots(nrows=1,ncols=2,figsize=(10,5))\n",
    "    sns.histplot(d, kde=True, ax=ax[0])\n",
    "    ax[0].axvline(d.mean(), color='y', linestyle='--',linewidth=2)\n",
    "    ax[0].axvline(d.median(), color='r', linestyle='dashed', linewidth=2)\n",
    "    ax[0].axvline(d.mode()[0],color='g',linestyle='solid',linewidth=2)\n",
    "    ax[0].legend({'Mean':d.mean(),'Median':d.median(),'Mode':d.mode()})\n",
    "    \n",
    "    sns.boxplot(x=d, showmeans=True, ax=ax[1])\n",
    "    plt.tight_layout()"
   ]
  },
  {
   "cell_type": "code",
   "execution_count": null,
   "metadata": {},
   "outputs": [
    {
     "data": {
      "text/plain": [
       "array(['tahun', 'bulan', 'kodedata', 'jeniscoa', 'kodefungsi',\n",
       "       'kodesubfungsi', 'kodeskpd', 'kodeunitskpd', 'kodeprogram',\n",
       "       'targetoutcome', 'kodekegiatan', 'kodesubkegiatan', 'targetoutput',\n",
       "       'kodeakunutama', 'kodeakunkelompok', 'kodeakunjenis',\n",
       "       'kodeakunobjek', 'kodeakunrinci', 'kodeakunsubrinci', 'volume',\n",
       "       'hargasatuan', 'nilaianggaran'], dtype=object)"
      ]
     },
     "execution_count": 24,
     "metadata": {},
     "output_type": "execute_result"
    }
   ],
   "source": [
    "num_cols = data2.select_dtypes('int64').columns.values\n",
    "num_cols"
   ]
  },
  {
   "cell_type": "code",
   "execution_count": null,
   "metadata": {},
   "outputs": [
    {
     "name": "stderr",
     "output_type": "stream",
     "text": [
      "C:\\Users\\hp5cg\\AppData\\Local\\Temp\\ipykernel_28576\\596864641.py:2: RuntimeWarning: More than 20 figures have been opened. Figures created through the pyplot interface (`matplotlib.pyplot.figure`) are retained until explicitly closed and may consume too much memory. (To control this warning, see the rcParam `figure.max_open_warning`).\n",
      "  f,ax = plt.subplots(nrows=1,ncols=2,figsize=(10,5))\n"
     ]
    },
    {
     "data": {
      "image/png": "[encoded data removed]",
      "text/plain": [
       "<Figure size 720x360 with 2 Axes>"
      ]
     },
     "metadata": {
      "needs_background": "light"
     },
     "output_type": "display_data"
    },
    {
     "data": {
      "image/png": "[encoded data removed]",
      "text/plain": [
       "<Figure size 720x360 with 2 Axes>"
      ]
     },
     "metadata": {
      "needs_background": "light"
     },
     "output_type": "display_data"
    },
    {
     "data": {
      "image/png": "[encoded data removed]",
      "text/plain": [
       "<Figure size 720x360 with 2 Axes>"
      ]
     },
     "metadata": {
      "needs_background": "light"
     },
     "output_type": "display_data"
    },
    {
     "data": {
      "image/png": "[encoded data removed]",
      "text/plain": [
       "<Figure size 720x360 with 2 Axes>"
      ]
     },
     "metadata": {
      "needs_background": "light"
     },
     "output_type": "display_data"
    },
    {
     "data": {
      "image/png": "[encoded data removed]",
      "text/plain": [
       "<Figure size 720x360 with 2 Axes>"
      ]
     },
     "metadata": {
      "needs_background": "light"
     },
     "output_type": "display_data"
    },
    {
     "data": {
      "image/png": "[encoded data removed]",
      "text/plain": [
       "<Figure size 720x360 with 2 Axes>"
      ]
     },
     "metadata": {
      "needs_background": "light"
     },
     "output_type": "display_data"
    },
    {
     "data": {
      "image/png": "[encoded data removed]",
      "text/plain": [
       "<Figure size 720x360 with 2 Axes>"
      ]
     },
     "metadata": {
      "needs_background": "light"
     },
     "output_type": "display_data"
    },
    {
     "data": {
      "image/png": "[encoded data removed]",
      "text/plain": [
       "<Figure size 720x360 with 2 Axes>"
      ]
     },
     "metadata": {
      "needs_background": "light"
     },
     "output_type": "display_data"
    },
    {
     "data": {
      "image/png": "[encoded data removed]",
      "text/plain": [
       "<Figure size 720x360 with 2 Axes>"
      ]
     },
     "metadata": {
      "needs_background": "light"
     },
     "output_type": "display_data"
    },
    {
     "data": {
      "image/png": "[encoded data removed]",
      "text/plain": [
       "<Figure size 720x360 with 2 Axes>"
      ]
     },
     "metadata": {
      "needs_background": "light"
     },
     "output_type": "display_data"
    },
    {
     "data": {
      "image/png": "[encoded data removed]",
      "text/plain": [
       "<Figure size 720x360 with 2 Axes>"
      ]
     },
     "metadata": {
      "needs_background": "light"
     },
     "output_type": "display_data"
    },
    {
     "data": {
      "image/png": "[encoded data removed]",
      "text/plain": [
       "<Figure size 720x360 with 2 Axes>"
      ]
     },
     "metadata": {
      "needs_background": "light"
     },
     "output_type": "display_data"
    },
    {
     "data": {
      "image/png": "[encoded data removed]",
      "text/plain": [
       "<Figure size 720x360 with 2 Axes>"
      ]
     },
     "metadata": {
      "needs_background": "light"
     },
     "output_type": "display_data"
    },
    {
     "data": {
      "image/png": "[encoded data removed]",
      "text/plain": [
       "<Figure size 720x360 with 2 Axes>"
      ]
     },
     "metadata": {
      "needs_background": "light"
     },
     "output_type": "display_data"
    },
    {
     "data": {
      "image/png": "[encoded data removed]",
      "text/plain": [
       "<Figure size 720x360 with 2 Axes>"
      ]
     },
     "metadata": {
      "needs_background": "light"
     },
     "output_type": "display_data"
    },
    {
     "data": {
      "image/png": "[encoded data removed]",
      "text/plain": [
       "<Figure size 720x360 with 2 Axes>"
      ]
     },
     "metadata": {
      "needs_background": "light"
     },
     "output_type": "display_data"
    },
    {
     "data": {
      "image/png": "[encoded data removed]",
      "text/plain": [
       "<Figure size 720x360 with 2 Axes>"
      ]
     },
     "metadata": {
      "needs_background": "light"
     },
     "output_type": "display_data"
    },
    {
     "data": {
      "image/png": "[encoded data removed]",
      "text/plain": [
       "<Figure size 720x360 with 2 Axes>"
      ]
     },
     "metadata": {
      "needs_background": "light"
     },
     "output_type": "display_data"
    },
    {
     "data": {
      "image/png": "[encoded data removed]",
      "text/plain": [
       "<Figure size 720x360 with 2 Axes>"
      ]
     },
     "metadata": {
      "needs_background": "light"
     },
     "output_type": "display_data"
    },
    {
     "data": {
      "image/png": "[encoded data removed]",
      "text/plain": [
       "<Figure size 720x360 with 2 Axes>"
      ]
     },
     "metadata": {
      "needs_background": "light"
     },
     "output_type": "display_data"
    },
    {
     "data": {
      "image/png": "[encoded data removed]",
      "text/plain": [
       "<Figure size 720x360 with 2 Axes>"
      ]
     },
     "metadata": {
      "needs_background": "light"
     },
     "output_type": "display_data"
    },
    {
     "data": {
      "image/png": "[encoded data removed]",
      "text/plain": [
       "<Figure size 720x360 with 2 Axes>"
      ]
     },
     "metadata": {
      "needs_background": "light"
     },
     "output_type": "display_data"
    }
   ],
   "source": [
    "for f in num_cols:\n",
    "    plot_uni(data2[f])"
   ]
  },
  {
   "cell_type": "markdown",
   "metadata": {},
   "source": [
    "Bivariate analysis"
   ]
  },
  {
   "cell_type": "code",
   "execution_count": null,
   "metadata": {},
   "outputs": [
    {
     "data": {
      "text/plain": [
       "namapemda\n",
       "Provinsi Aceh    3.251770e+09\n",
       "Name: nilaianggaran, dtype: float64"
      ]
     },
     "execution_count": 27,
     "metadata": {},
     "output_type": "execute_result"
    }
   ],
   "source": [
    "data2.groupby(by='namapemda')['nilaianggaran'].mean() "
   ]
  },
  {
   "cell_type": "code",
   "execution_count": null,
   "metadata": {},
   "outputs": [
    {
     "name": "stdout",
     "output_type": "stream",
     "text": [
      "namapemda      nilaianggaran\n",
      "Provinsi Aceh  1347             1\n",
      "               14592            1\n",
      "               17432            1\n",
      "               24000            1\n",
      "               28263            1\n",
      "                               ..\n",
      "               297652670000     1\n",
      "               357289621288     1\n",
      "               391508000000     1\n",
      "               399706009000     1\n",
      "               476370000000     1\n",
      "Length: 1539, dtype: int64\n"
     ]
    }
   ],
   "source": [
    "print(data[['namapemda','nilaianggaran']].value_counts().sort_index()) "
   ]
  },
  {
   "cell_type": "markdown",
   "metadata": {},
   "source": [
    "Linear Regression"
   ]
  },
  {
   "cell_type": "code",
   "execution_count": null,
   "metadata": {},
   "outputs": [
    {
     "name": "stdout",
     "output_type": "stream",
     "text": [
      "X: <class 'pandas.core.frame.DataFrame'>\n",
      "Index(['Intercept', 'nilaianggaran'], dtype='object')\n"
     ]
    },
    {
     "name": "stderr",
     "output_type": "stream",
     "text": [
      "c:\\Users\\hp5cg\\AppData\\Local\\Programs\\Python\\Python310\\lib\\site-packages\\statsmodels\\regression\\linear_model.py:1736: RuntimeWarning: divide by zero encountered in double_scalars\n",
      "  return 1 - self.ssr/self.centered_tss\n"
     ]
    },
    {
     "data": {
      "text/html": [
       "<table class=\"simpletable\">\n",
       "<caption>OLS Regression Results</caption>\n",
       "<tr>\n",
       "  <th>Dep. Variable:</th>        <td>kodepemda</td>    <th>  R-squared:         </th>  <td>    -inf</td> \n",
       "</tr>\n",
       "<tr>\n",
       "  <th>Model:</th>                   <td>OLS</td>       <th>  Adj. R-squared:    </th>  <td>    -inf</td> \n",
       "</tr>\n",
       "<tr>\n",
       "  <th>Method:</th>             <td>Least Squares</td>  <th>  F-statistic:       </th>  <td>  -1998.</td> \n",
       "</tr>\n",
       "<tr>\n",
       "  <th>Date:</th>             <td>Tue, 28 Jun 2022</td> <th>  Prob (F-statistic):</th>   <td>  1.00</td>  \n",
       "</tr>\n",
       "<tr>\n",
       "  <th>Time:</th>                 <td>16:06:11</td>     <th>  Log-Likelihood:    </th>  <td>  70586.</td> \n",
       "</tr>\n",
       "<tr>\n",
       "  <th>No. Observations:</th>      <td>  2000</td>      <th>  AIC:               </th> <td>-1.412e+05</td>\n",
       "</tr>\n",
       "<tr>\n",
       "  <th>Df Residuals:</th>          <td>  1998</td>      <th>  BIC:               </th> <td>-1.412e+05</td>\n",
       "</tr>\n",
       "<tr>\n",
       "  <th>Df Model:</th>              <td>     1</td>      <th>                     </th>      <td> </td>    \n",
       "</tr>\n",
       "<tr>\n",
       "  <th>Covariance Type:</th>      <td>nonrobust</td>    <th>                     </th>      <td> </td>    \n",
       "</tr>\n",
       "</table>\n",
       "<table class=\"simpletable\">\n",
       "<tr>\n",
       "        <td></td>           <th>coef</th>     <th>std err</th>      <th>t</th>      <th>P>|t|</th>  <th>[0.025</th>    <th>0.975]</th>  \n",
       "</tr>\n",
       "<tr>\n",
       "  <th>Intercept</th>     <td>    1.0000</td> <td> 2.57e-18</td> <td> 3.89e+17</td> <td> 0.000</td> <td>    1.000</td> <td>    1.000</td>\n",
       "</tr>\n",
       "<tr>\n",
       "  <th>nilaianggaran</th> <td>-7.068e-28</td> <td> 1.06e-28</td> <td>   -6.677</td> <td> 0.000</td> <td>-9.14e-28</td> <td>-4.99e-28</td>\n",
       "</tr>\n",
       "</table>\n",
       "<table class=\"simpletable\">\n",
       "<tr>\n",
       "  <th>Omnibus:</th>       <td>3691.771</td> <th>  Durbin-Watson:     </th>  <td>   0.045</td>  \n",
       "</tr>\n",
       "<tr>\n",
       "  <th>Prob(Omnibus):</th>  <td> 0.000</td>  <th>  Jarque-Bera (JB):  </th> <td>3603587.662</td>\n",
       "</tr>\n",
       "<tr>\n",
       "  <th>Skew:</th>           <td>13.584</td>  <th>  Prob(JB):          </th>  <td>    0.00</td>  \n",
       "</tr>\n",
       "<tr>\n",
       "  <th>Kurtosis:</th>       <td>209.167</td> <th>  Cond. No.          </th>  <td>2.45e+10</td>  \n",
       "</tr>\n",
       "</table><br/><br/>Notes:<br/>[1] Standard Errors assume that the covariance matrix of the errors is correctly specified.<br/>[2] The condition number is large, 2.45e+10. This might indicate that there are<br/>strong multicollinearity or other numerical problems."
      ],
      "text/plain": [
       "<class 'statsmodels.iolib.summary.Summary'>\n",
       "\"\"\"\n",
       "                            OLS Regression Results                            \n",
       "==============================================================================\n",
       "Dep. Variable:              kodepemda   R-squared:                        -inf\n",
       "Model:                            OLS   Adj. R-squared:                   -inf\n",
       "Method:                 Least Squares   F-statistic:                    -1998.\n",
       "Date:                Tue, 28 Jun 2022   Prob (F-statistic):               1.00\n",
       "Time:                        16:06:11   Log-Likelihood:                 70586.\n",
       "No. Observations:                2000   AIC:                        -1.412e+05\n",
       "Df Residuals:                    1998   BIC:                        -1.412e+05\n",
       "Df Model:                           1                                         \n",
       "Covariance Type:            nonrobust                                         \n",
       "=================================================================================\n",
       "                    coef    std err          t      P>|t|      [0.025      0.975]\n",
       "---------------------------------------------------------------------------------\n",
       "Intercept         1.0000   2.57e-18   3.89e+17      0.000       1.000       1.000\n",
       "nilaianggaran -7.068e-28   1.06e-28     -6.677      0.000   -9.14e-28   -4.99e-28\n",
       "==============================================================================\n",
       "Omnibus:                     3691.771   Durbin-Watson:                   0.045\n",
       "Prob(Omnibus):                  0.000   Jarque-Bera (JB):          3603587.662\n",
       "Skew:                          13.584   Prob(JB):                         0.00\n",
       "Kurtosis:                     209.167   Cond. No.                     2.45e+10\n",
       "==============================================================================\n",
       "\n",
       "Notes:\n",
       "[1] Standard Errors assume that the covariance matrix of the errors is correctly specified.\n",
       "[2] The condition number is large, 2.45e+10. This might indicate that there are\n",
       "strong multicollinearity or other numerical problems.\n",
       "\"\"\""
      ]
     },
     "execution_count": 35,
     "metadata": {},
     "output_type": "execute_result"
    }
   ],
   "source": [
    "y,X = dmatrices('kodepemda ~ nilaianggaran', data=data2, return_type='dataframe')\n",
    "print(\"X:\", type(X))\n",
    "print(X.columns)\n",
    "model=sm.OLS(y, X)\n",
    "result=model.fit()\n",
    "result.summary()"
   ]
  },
  {
   "cell_type": "code",
   "execution_count": null,
   "metadata": {},
   "outputs": [
    {
     "name": "stdout",
     "output_type": "stream",
     "text": [
      "Intercept        1.000000e+00\n",
      "nilaianggaran   -7.068194e-28\n",
      "dtype: float64\n"
     ]
    }
   ],
   "source": [
    "model = sm.OLS.from_formula('kodepemda ~ nilaianggaran', data = data2)\n",
    "results = model.fit()\n",
    "print(results.params)"
   ]
  },
  {
   "cell_type": "markdown",
   "metadata": {},
   "source": [
    "Classification"
   ]
  },
  {
   "cell_type": "code",
   "execution_count": null,
   "metadata": {},
   "outputs": [],
   "source": [
    "data2['rate_code'] = (data2['nilaianggaran'] > 4).astype(np.float32)"
   ]
  },
  {
   "cell_type": "code",
   "execution_count": null,
   "metadata": {},
   "outputs": [
    {
     "name": "stderr",
     "output_type": "stream",
     "text": [
      "c:\\Users\\hp5cg\\AppData\\Local\\Programs\\Python\\Python310\\lib\\site-packages\\seaborn\\distributions.py:2619: FutureWarning: `distplot` is a deprecated function and will be removed in a future version. Please adapt your code to use either `displot` (a figure-level function with similar flexibility) or `histplot` (an axes-level function for histograms).\n",
      "  warnings.warn(msg, FutureWarning)\n",
      "c:\\Users\\hp5cg\\AppData\\Local\\Programs\\Python\\Python310\\lib\\site-packages\\seaborn\\distributions.py:2619: FutureWarning: `distplot` is a deprecated function and will be removed in a future version. Please adapt your code to use either `displot` (a figure-level function with similar flexibility) or `histplot` (an axes-level function for histograms).\n",
      "  warnings.warn(msg, FutureWarning)\n",
      "c:\\Users\\hp5cg\\AppData\\Local\\Programs\\Python\\Python310\\lib\\site-packages\\seaborn\\distributions.py:2657: RuntimeWarning: Mean of empty slice.\n",
      "  line, = ax.plot(a.mean(), 0)\n",
      "c:\\Users\\hp5cg\\AppData\\Local\\Programs\\Python\\Python310\\lib\\site-packages\\numpy\\core\\_methods.py:190: RuntimeWarning: invalid value encountered in double_scalars\n",
      "  ret = ret.dtype.type(ret / rcount)\n",
      "c:\\Users\\hp5cg\\AppData\\Local\\Programs\\Python\\Python310\\lib\\site-packages\\numpy\\lib\\histograms.py:906: RuntimeWarning: invalid value encountered in divide\n",
      "  return n/db/n.sum(), bin_edges\n"
     ]
    },
    {
     "data": {
      "text/plain": [
       "<AxesSubplot:ylabel='Density'>"
      ]
     },
     "execution_count": 40,
     "metadata": {},
     "output_type": "execute_result"
    },
    {
     "data": {
      "image/png": "[encoded data removed]",
      "text/plain": [
       "<Figure size 432x288 with 1 Axes>"
      ]
     },
     "metadata": {
      "needs_background": "light"
     },
     "output_type": "display_data"
    }
   ],
   "source": [
    "y, X = dmatrices('rate_code ~ kodesubkegiatan', data = data2)\n",
    "sns.distplot(X[y[:,0] > 0, 1])\n",
    "sns.distplot(X[y[:,0] == 0, 1])"
   ]
  },
  {
   "cell_type": "markdown",
   "metadata": {},
   "source": [
    "Classification using Sklearn's LogisticRegression"
   ]
  },
  {
   "cell_type": "code",
   "execution_count": null,
   "metadata": {},
   "outputs": [
    {
     "name": "stderr",
     "output_type": "stream",
     "text": [
      "C:\\Users\\hp5cg\\AppData\\Local\\Temp\\ipykernel_28576\\2311085705.py:3: DataConversionWarning: A column-vector y was passed when a 1d array was expected. Please change the shape of y to (n_samples,), for example using ravel().\n",
      "  model.fit(X, y)\n"
     ]
    },
    {
     "name": "stdout",
     "output_type": "stream",
     "text": [
      "              precision    recall  f1-score   support\n",
      "\n",
      "         1.0       1.00      1.00      1.00      2000\n",
      "\n",
      "    accuracy                           1.00      2000\n",
      "   macro avg       1.00      1.00      1.00      2000\n",
      "weighted avg       1.00      1.00      1.00      2000\n",
      "\n"
     ]
    }
   ],
   "source": [
    "y, X = dmatrices('rate_code ~ nilaianggaran', data = data2)\n",
    "model = sklearn.ensemble.RandomForestClassifier()\n",
    "model.fit(X, y)\n",
    "yhat = model.predict(X)\n",
    "print(sklearn.metrics.classification_report(y, yhat))"
   ]
  }
 ],
 "metadata": {
  "kernelspec": {
   "display_name": "Python 3.9.4 64-bit",
   "language": "python",
   "name": "python3"
  },
  "language_info": {
   "codemirror_mode": {
    "name": "ipython",
    "version": 3
   },
   "file_extension": ".py",
   "mimetype": "text/x-python",
   "name": "python",
   "nbconvert_exporter": "python",
   "pygments_lexer": "ipython3",
   "version": "3.9.4"
  },
  "orig_nbformat": 4,
  "vscode": {
   "interpreter": {
    "hash": "d5091abc2fbb5bf6075bda217cb849702346ba5f69cc9cd113febab3b20194c9"
   }
  }
 },
 "nbformat": 4,
 "nbformat_minor": 2
}
